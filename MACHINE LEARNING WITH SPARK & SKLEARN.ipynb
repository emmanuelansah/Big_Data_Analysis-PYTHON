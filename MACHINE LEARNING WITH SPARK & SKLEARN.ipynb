{
 "cells": [
  {
   "cell_type": "markdown",
   "id": "983e5672",
   "metadata": {},
   "source": [
    "# ML with Large Datasets\n",
    "----\n",
    "## Dataset Description\n",
    "In order to explore these Spark API, we use the [following dataset](). The data is from a population and housing census of some country ```X```  not identified for privacy reasons although this data is a very small subset of the actual data. \n",
    "Each row in the data represent a single individual in the population. \n",
    " A summary of column description is provided below:\n",
    "- **Geographic identifiers:** PROVINCE, REGION, DISTRICT, COMMUNE,MILIEU ,\n",
    "       IDMEN, IDINDIV. This type of data has a somewhat hierarchical structure. We have a household (think of it as family), IDMEN-household ID. Within each household, we have individuals, IDINDIV - individual\n",
    "       > \n",
    "- **MILIEU:** A classification of whether this person lived in urban or rural area. ```2-Rural, 1-Urban```\n",
    "- **Sex**. ```P05```==>[1\t- Male 2\t- Female]\n",
    "- **P19 Languages spoken**. What languages the person can speak.This variable is split into 4 variables as follows: ```P19MG, P19FR, P19AN, P19AU``` for local language, English, French and any other language.\n",
    "- **P20, Literacy**. Whether the person can read and write any of the 3 languages given. Note that there three variables each representing each language. A local language, French and English. For each language, the value 1 means they can read and write in the language while 2 means they cannot.The variables are ```P20MG (local language), P20FR (French), P20AN (English), P20AU (other)```. \n",
    "- **P03:** whether the person is the head of the household, wife. child etc==>[0- Chef de Ménage (CM) 1- Conjoint(e) (CJ) 2-\tFils/Fille3-\tPère/Mère 4-\tBeau-Père/Belle-Mère 5-\tBeau-Fils/Belle-Fille 6-\tPetit fils/Petite-fille\n",
    " Autre Proche du CM 8- Autre proche du CJ 9 -Sans lien de parenté]\n",
    "\n",
    "- **Age:**. Person's date of birth is given by column ```P07M``` (month of birth), ```P07A``` (year of birth) and ```P08``` (age)\n",
    "- **Marital status:** ```P28``` (whether the person is married or not)==>[1-\tCélibataire, 2-\tMarié(e), 3-\tDivorcé(e)/Séparé(e), 4-\tVeuf(ve)]. This question is asked to residents who are 12 years or older. \n",
    "- **Age at first marriage**. ```P29``` (age at marriage).The question was like this: How old was <NAME> when he/she got married for the first time?\n",
    "- **School attendance:** ```P21``` ==>[0 N'a Jamais fréquenté 1-A\tfréquenté 2- Fréquente actuellement]\n",
    "- **Highest school level attended:**```P22N```. This variable represents highest level of school attended. The question was asked like this: What is the highest level of education that (name) achieved during his studies?\n",
    " > 1. Preschool; 2. Primary-school; 3. Secondary; 4. Technical college; 5. University \n",
    " - **Number of years of school completed at a particular level:** ```P22C``` Years completed at that level. A value of 0 means the person didnt complete the first year of education at that level. \n",
    " > Preschool(0-2); Primary-school(0-5);Secondary(0-7); Technical college (0-7); University (0-7)\n",
    " \n",
    "- **Whether the person worked or not:** ```P23```==> [1-\t0ccupé 2-\tChômeur 3-\tEn quête du 1er emploi 4-\tMénagère 5-\tElève/Etudiant 6-\tRetraité 7- lncapacité à travailler 8- Autre]\n",
    "\n",
    "## The Task\n",
    "The Ministry of Health in the country has expressed concern about the prevalence of early marriages among young individuals (both men and women). They have tasked you with investigating the factors contributing to early marriages. For the purpose of this analysis, individuals who get married at the age of 18 or younger are classified as having married early or belonging to the early marriage category. Beyond conducting exploratory analysis, the Ministry has requested that you develop a model to predict whether a person is likely to marry young, based on factors such as place of residence, household size, parents' education levels, and other relevant variables. In summary, these are the project goals.\n",
    "1. Perfom explotaory analysis to understand early marriages \n",
    "2. Build a Machine Learning model which can predict whether a person will get married early or not.\n",
    "3. Report on the model performance and efficacy"
   ]
  },
  {
   "cell_type": "markdown",
   "id": "158d5d8d-0607-46ca-903a-76f2f82e8c48",
   "metadata": {},
   "source": [
    "## Python setup"
   ]
  },
  {
   "cell_type": "code",
   "execution_count": 1,
   "id": "38a94cb8",
   "metadata": {},
   "outputs": [
    {
     "name": "stderr",
     "output_type": "stream",
     "text": [
      "/home/emmmanuel/.local/lib/python3.9/site-packages/matplotlib/projections/__init__.py:63: UserWarning: Unable to import Axes3D. This may be due to multiple versions of Matplotlib being installed (e.g. as a system package and as a pip package). As a result, the 3D projection is not available.\n",
      "  warnings.warn(\"Unable to import Axes3D. This may be due to multiple versions of \"\n"
     ]
    }
   ],
   "source": [
    "from datetime import datetime\n",
    "from IPython.display import Image\n",
    "import pandas as pd\n",
    "# Suppress scientific notation globally\n",
    "pd.options.display.float_format = '{:.2f}'.format\n",
    "import numpy as np\n",
    "from pathlib import Path\n",
    "from pyspark.sql import SparkSession\n",
    "from pyspark.sql.types import *\n",
    "from pyspark.sql.functions import *\n",
    "from pyspark import SparkContext, SparkConf\n",
    "\n",
    "from pyspark.ml.classification import LogisticRegression, RandomForestClassifier, GBTClassifier, DecisionTreeClassifier\n",
    "from pyspark.ml.evaluation import MulticlassClassificationEvaluator\n",
    "from pyspark.ml.feature import VectorAssembler\n",
    "\n",
    "from sklearn.model_selection import train_test_split\n",
    "from sklearn.linear_model import LogisticRegression as LR\n",
    "from sklearn.ensemble import RandomForestClassifier as RF, GradientBoostingClassifier as GBM, ExtraTreesClassifier as ETC, AdaBoostClassifier as Ada\n",
    "from sklearn.metrics import accuracy_score, classification_report, accuracy_score\n",
    "from tabulate import tabulate\n",
    "import matplotlib.pyplot as plt"
   ]
  },
  {
   "cell_type": "markdown",
   "id": "7cf01fa1-c3cb-4cd0-afaf-125459dc563b",
   "metadata": {},
   "source": [
    "# Inputs Paths, Global Variables and Parameters\n",
    "Lets provide paths to input files we will use. \n",
    "Its a good practice to create these as global variables. Also, use Python module ```Path``` from pathlib to manage file paths. "
   ]
  },
  {
   "cell_type": "code",
   "execution_count": 2,
   "id": "dfa670af-ffd2-4b5c-9c6d-3ef9edf713ec",
   "metadata": {},
   "outputs": [],
   "source": [
    "# Inputs Paths, Global Variables and Parameters\n",
    "# path to hh_data.txt\n",
    "HH_DATA = \"/home/emmmanuel/Downloads/BDA_mini/ResidentIBEIPM.csv\"\n",
    "\n",
    "# Decide which columns to keep\n",
    "COLS_TO_KEEP = [\n",
    "    'PROVINCE', 'REGION', 'DISTRICT', 'COMMUNE', 'MILIEU', 'IDMEN', 'IDINDIV',\n",
    "    'P05',  # Sex\n",
    "    'P19MG', 'P19FR', 'P19AN', 'P19AU',  # Languages spoken\n",
    "    'P20MG', 'P20FR', 'P20AN', 'P20AU',  # Literacy\n",
    "    'P03',  # Household head status\n",
    "    'P07M', 'P07A', 'P08',  # Age related\n",
    "    'P28',  # Marital status\n",
    "    'P29',  # Age at first marriage\n",
    "    'P21',  # School attendance\n",
    "    'P22N', 'P22C',  # School level\n",
    "    'P23'  # Work status\n",
    "]\n",
    "\n",
    "# Regular household size threshold\n",
    "# use quintiles to determine the threshold\n",
    "HH_SIZE_THRESHOLD = 0.99\n",
    "\n",
    "# CHILFREN AGE THRESHOLD\n",
    "CHILDREN_AGE_THRESHOLD = 15\n",
    "ELDERY_AGE_THRESHOLD = 65\n",
    "EARLY_MARRIAGE_AGE_THRESHOLD = 18"
   ]
  },
  {
   "cell_type": "code",
   "execution_count": 4,
   "id": "063ad06b",
   "metadata": {},
   "outputs": [],
   "source": [
    "spark = SparkSession.builder \\\n",
    "    .appName(\"LargeDatasetProcessing\") \\\n",
    "    .master(\"local[8]\") \\\n",
    "    .config(\"spark.driver.memory\", \"8g\") \\\n",
    "    .config(\"spark.executor.memory\", \"8g\") \\\n",
    "    .config(\"spark.memory.offHeap.enabled\", \"false\") \\\n",
    "    .config(\"spark.sql.shuffle.partitions\", \"40\") \\\n",
    "    .config(\"spark.driver.bindAddress\", \"127.0.0.1\") \\\n",
    "    .config(\"spark.executor.extraJavaOptions\", \"-XX:+UseG1GC\") \\\n",
    "    .config(\"spark.driver.extraJavaOptions\", \"-XX:+UseG1GC\") \\\n",
    "    .getOrCreate()"
   ]
  },
  {
   "cell_type": "markdown",
   "id": "7a932562",
   "metadata": {},
   "source": [
    "# Preprocess the Data\n",
    "\n",
    "The objective here is to load the dataset, retain only the necessary columns to reduce its size, and enable faster processing. During preprocessing, we aim to clean up the columns and convert numeric columns into proper numeric data types.\n",
    "\n",
    "## Load the Data\n",
    "\n",
    "I use Spark for loading the data because it is faster than pandas. Alternatively, students can use the pandas \"chunk\" method to load data in manageable chunks. Another approach is to first load a small sample of the dataset, identify and document the required columns, and then load only those columns from the full dataset.\n",
    "\n",
    "## Subset the Columns\n",
    "\n",
    "Whether or not all columns were initially loaded, this step involves selecting only the required columns for further processing.\n",
    "\n",
    "## Preprocess and Clean Data\n",
    "\n",
    "For columns such as `age`, ensure they are in numeric format. Rows containing invalid or erroneous data can be removed as part of the cleaning process.\n"
   ]
  },
  {
   "cell_type": "markdown",
   "id": "830c7ca3",
   "metadata": {},
   "source": [
    "# Task-1-Loading and subsetting data"
   ]
  },
  {
   "cell_type": "markdown",
   "id": "dd163a3c",
   "metadata": {},
   "source": [
    "## Provide your strategy/plan for efficiently loading the data"
   ]
  },
  {
   "cell_type": "markdown",
   "id": "15257b5d",
   "metadata": {},
   "source": [
    "To manage the 16GB dataset, I initially used Spark to load the full dataset. Immediately, I selected only the essential columns – including demographics, education, and marital status – drastically reducing its size. I then wrote this subsetted data to a CSV file, partitioned to avoid single large files. Next, I transitioned to pandas, where I read the smaller CSV and performed the bulk of the data wrangling. I renamed columns, converted numeric columns, and used a custom function to engineer household size and dependent variables. After that, I cleaned missing data by using the mode for categorical and median for numeric columns. I also handled outliers for household size, children, and the elderly. I one-hot encoded categorical columns in preparation for machine learning algorithms. Finally, for modelling, I trained models using both scikit-learn and spark. I normalized my data before using the models."
   ]
  },
  {
   "cell_type": "code",
   "execution_count": 5,
   "id": "bf53ccdd",
   "metadata": {},
   "outputs": [],
   "source": [
    "sdf = spark.read.csv(HH_DATA, header=True, sep=\",\", inferSchema=True)"
   ]
  },
  {
   "cell_type": "markdown",
   "id": "21c637ab",
   "metadata": {},
   "source": [
    "## Subset the Data\n",
    "Keep only the columns we need and save a smaller dataset."
   ]
  },
  {
   "cell_type": "code",
   "execution_count": 6,
   "id": "e3b325e9",
   "metadata": {},
   "outputs": [],
   "source": [
    "sdf2 = sdf.select(COLS_TO_KEEP)"
   ]
  },
  {
   "cell_type": "code",
   "execution_count": 7,
   "id": "6713b840",
   "metadata": {},
   "outputs": [],
   "source": [
    "out_csv = \"/home/emmmanuel/Downloads/BDA_mini/output/proj-dataset-small\"\n",
    "sdf2.repartition(10).coalesce(1).write.csv(out_csv, header=True, sep=\",\", mode=\"overwrite\")\n"
   ]
  },
  {
   "cell_type": "code",
   "execution_count": 8,
   "id": "28eeba23",
   "metadata": {},
   "outputs": [
    {
     "name": "stdout",
     "output_type": "stream",
     "text": [
      "+--------+------+--------+-------+------+--------------------+--------------------+---+-----+-----+-----+-----+-----+-----+-----+-----+---+----+----+---+---+---+---+----+----+---+\n",
      "|PROVINCE|REGION|DISTRICT|COMMUNE|MILIEU|               IDMEN|             IDINDIV|P05|P19MG|P19FR|P19AN|P19AU|P20MG|P20FR|P20AN|P20AU|P03|P07M|P07A|P08|P28|P29|P21|P22N|P22C|P23|\n",
      "+--------+------+--------+-------+------+--------------------+--------------------+---+-----+-----+-----+-----+-----+-----+-----+-----+---+----+----+---+---+---+---+----+----+---+\n",
      "|       1|    11|     111|  11101|     1|11101101010011066...|11101101010010166...|  1|    1|    1|    2|    2|    1|    1|    2|    2|  0|  10|1954| 63|  2| 24|  1|   3|   7|  6|\n",
      "|       1|    11|     111|  11101|     1|11101101010011066...|11101101010010166...|  2|    1|    1|    2|    2|    1|    1|    2|    2|  1|   8|1950| 67|  2| 28|  1|   3|   7|  6|\n",
      "|       1|    11|     111|  11101|     1|11101101010011066...|11101101010010166...|  1|    1|    1|    1|    1|    1|    1|    1|    1|  2|   3|1980| 38|  1|   |  1|   5|   4|  1|\n",
      "|       1|    11|     111|  11101|     1|11101101010011066...|11101101010010166...|  1|    1|    1|    2|    2|    1|    1|    2|    2|  2|   9|1984| 33|  1|   |  1|   5|   5|  2|\n",
      "|       1|    11|     111|  11101|     1|11101101010011066...|11101101010010166...|  1|    1|    1|    2|    2|    1|    1|    2|    2|  0|  12|1984| 33|  2| 25|  1|   5|   3|  1|\n",
      "+--------+------+--------+-------+------+--------------------+--------------------+---+-----+-----+-----+-----+-----+-----+-----+-----+---+----+----+---+---+---+---+----+----+---+\n",
      "only showing top 5 rows\n",
      "\n"
     ]
    }
   ],
   "source": [
    "sdf2.show(5)"
   ]
  },
  {
   "cell_type": "markdown",
   "id": "93877e31",
   "metadata": {},
   "source": [
    "# Task-2"
   ]
  },
  {
   "cell_type": "markdown",
   "id": "fb6ceacb",
   "metadata": {},
   "source": [
    "## Provide an explanation with a summary of data preprocessing steps you will apply to the data to end up with a dataset you need for building a model. "
   ]
  },
  {
   "cell_type": "markdown",
   "id": "71e772e9",
   "metadata": {},
   "source": [
    "My data preprocessing pipeline aimed to transform the raw census data into a clean, structured, and feature-rich dataset suitable for machine learning. First, after loading only the relevant columns using Spark, I read the smaller dataset into pandas for manipulation. I began with data cleaning, renaming columns for clarity and converting numeric columns to the correct data type using a custom convert2int function. This included handling cases where numbers were not interpretable by representing them with NaN values, and then removing these from the numeric columns. Then, I performed feature engineering, creating new household-level features using a custom gen_var_hh_size function, which generates the hh_size, num_children and num_elderly columns. I also created hoh_* variables, such as head-of-household age, education level, and literacy.\n",
    "\n",
    "Further, I handled missing values by filling them with the mode for categorical features and the median for numerical features. I then addressed outliers, dropping rows with excessively large household sizes, and numbers of children and elderly. Crucially, I created my target variable, early_marriage, based on whether the marriage age was under 18 years. Finally, I one-hot encoded all categorical features, ensuring they can be used as input for the models. I also dropped the individual and household id variables. The output of all of these steps was a dataset with purely numeric features, which was ready for modeling."
   ]
  },
  {
   "cell_type": "markdown",
   "id": "0eb43e0f",
   "metadata": {},
   "source": [
    "## Data Preprocessing\n",
    "- Rename columns for easy identification\n",
    "- Perform data type conversion if necessary"
   ]
  },
  {
   "cell_type": "code",
   "execution_count": 10,
   "id": "ef35ca38",
   "metadata": {},
   "outputs": [],
   "source": [
    "# ==========================================================\n",
    "# Load the smaller CSV fwe just created as pandas DataFrame\n",
    "# ==========================================================\n",
    "df = pd.read_csv(\"/home/emmmanuel/Downloads/BDA_mini/output/proj-dataset-small/part-00000-cb47f5d3-ddce-46a1-9580-fdfc931c4b03-c000.csv\")"
   ]
  },
  {
   "cell_type": "code",
   "execution_count": 11,
   "id": "a6865929",
   "metadata": {},
   "outputs": [],
   "source": [
    "# ====================================\n",
    "# RENAME COLUMNS\n",
    "# ====================================\n",
    "# Rename the columns to more meaningful names for easy understanding and ide\n",
    "df.rename(columns={\n",
    "    'PROVINCE': 'province',\n",
    "    'REGION': 'region',\n",
    "    'DISTRICT': 'district',\n",
    "    'COMMUNE': 'commune',\n",
    "    'MILIEU': 'milieu',\n",
    "    'IDMEN': 'hh_id',\n",
    "    'IDINDIV': 'indiv_id',\n",
    "    'P05': 'sex',\n",
    "    'P19MG': 'lang_local',\n",
    "    'P19FR': 'lang_french',\n",
    "    'P19AN': 'lang_english',\n",
    "    'P19AU': 'lang_other',\n",
    "    'P20MG': 'literacy_local',\n",
    "    'P20FR': 'literacy_french',\n",
    "    'P20AN': 'literacy_english',\n",
    "    'P20AU': 'literacy_other',\n",
    "    'P03': 'hh_relation',\n",
    "    'P07M': 'birth_month',\n",
    "    'P07A': 'birth_year',\n",
    "    'P08': 'age',\n",
    "    'P28': 'marital_status',\n",
    "    'P29': 'age_married',\n",
    "    'P21': 'school_attendance',\n",
    "    'P22N': 'highest_school_level',\n",
    "    'P22C': 'years_at_school_level',\n",
    "    'P23': 'work_status'\n",
    "}, inplace=True)"
   ]
  },
  {
   "cell_type": "markdown",
   "id": "d93658fd",
   "metadata": {},
   "source": [
    "### Add New Variables We Need\n",
    "\n",
    "In some cases, key information we need to explore may not be readily available in the dataset. For example, to analyze households, we might need to create a new column to represent household size.\n",
    "\n",
    "#### Household Size\n",
    "Household size refers to the number of people in a household. The dataset provides a household identifier (`hh_id`) and an individual identifier (`indiv_id`). Using these, we can generate a new column called `household_size`.\n",
    "\n",
    "#### Feature Engineering: Creating Additional Variables\n",
    "Feature engineering is the process of transforming raw data into meaningful features that improve the performance of machine learning models. This involves selecting, creating, modifying, or aggregating data attributes to make them more informative and relevant to the task at hand. Feature engineering is inherently a creative task—there are no strict rules. As a data scientist or machine learning practitioner, it's up to you to explore the data, consult domain experts, and study relevant literature to design and test new features.\n",
    "\n",
    "For this analysis, we can consider creating the following features, which may influence the age at first marriage:\n",
    "\n",
    "- **Number of dependent children in the household**: Defined as the number of individuals aged 15 and younger.\n",
    "- **Number of dependent adults in the household**: Defined as the number of individuals aged 65 and older.\n",
    "\n",
    "#### Household Level Variables \n",
    "Note that we have two levels of analysis units here: the individual and the household. As such, variables such as household size, number of children, number of the eldery are all household level variables. Since the head of the family or head of the household has more power in determing what happens in the house, we can also add household head variables. Concretely, for each household, we can have variables named like this: hoh_age, hoh_educ, hoh_literacy etc."
   ]
  },
  {
   "cell_type": "code",
   "execution_count": 12,
   "id": "49edc6eb",
   "metadata": {},
   "outputs": [],
   "source": [
    "def gen_var_hh_size(df, hh_id_col='hh_id'):\n",
    "    \"\"\"Generates variable hh_size\n",
    "\n",
    "    _extended_summary_\n",
    "\n",
    "    Parameters\n",
    "    ----------\n",
    "    df : _type_\n",
    "        _description_\n",
    "    hh_id_col : str, optional\n",
    "        _description_, by default 'hh_id'\n",
    "    \n",
    "    Returns\n",
    "    -------\n",
    "    _type_\n",
    "        _description_\n",
    "    \"\"\"\n",
    "\n",
    "    # ======================================================\n",
    "    # GENERATE HH SIZE\n",
    "    # ======================================================\n",
    "    df_hhsize = df.groupby(hh_id_col).size().reset_index(name='hh_size')\n",
    "\n",
    "    # Add index for easieer merging later\n",
    "    df_hhsize.set_index(hh_id_col, inplace=True)\n",
    "\n",
    "    # ======================================================\n",
    "    # GENERATE NUMBER OF CHILDREN AND ELDERLY\n",
    "    # ======================================================\n",
    "    df_children = df[df['age'] <= CHILDREN_AGE_THRESHOLD].groupby(hh_id_col).size().reset_index(name='num_children')\n",
    "    df_elderly = df[df['age'] >= ELDERY_AGE_THRESHOLD].groupby(hh_id_col).size().reset_index(name='num_elderly')\n",
    "    \n",
    "    df_children.set_index(hh_id_col, inplace=True)\n",
    "    df_elderly.set_index(hh_id_col, inplace=True)\n",
    "    # ======================================================\n",
    "    # MERGE THE DATAFRAMES\n",
    "    # ======================================================\n",
    "    df_hh = df_hhsize.join(df_children, how='left').join(df_elderly,how='left')\n",
    "    \n",
    "    # ======================================================\n",
    "    # FILL NAs WITH 0\n",
    "    # ======================================================\n",
    "    # After merging, we have some NAs which we will fill with 0\n",
    "    # For instance, if a household has no children, \n",
    "    # the number of children will be NA, so we need to replace that with 0\n",
    "    df_hh.fillna(0, inplace=True)\n",
    "\n",
    "    # ======================================================\n",
    "    # CHECK THAT WE HAVE ALL HH_ID\n",
    "    # ======================================================\n",
    "    \n",
    "    return df_hh"
   ]
  },
  {
   "cell_type": "code",
   "execution_count": 13,
   "id": "22f4d1f8",
   "metadata": {},
   "outputs": [],
   "source": [
    "# ====================================\n",
    "# ADD HOUSEHOLD LEVEL VARIABLES\n",
    "# ====================================\n",
    "# Household size\n",
    "df_hh = gen_var_hh_size(df)\n",
    "\n",
    "# Merge household size back to the main dataframe\n",
    "df = df.merge(df_hh, on='hh_id', how='left')"
   ]
  },
  {
   "cell_type": "code",
   "execution_count": 14,
   "id": "101b4f17",
   "metadata": {},
   "outputs": [],
   "source": [
    "# Household head variables\n",
    "hoh_cols = ['age','highest_school_level','literacy_english','literacy_french','literacy_local','work_status']\n",
    "df_hoh = df[df['hh_relation']==0][['hh_id'] + hoh_cols]\n",
    "df_hoh.rename(columns={col: f\"hoh_{col}\" for col in hoh_cols}, inplace=True)\n",
    "df = df.merge(df_hoh, on='hh_id', how='left')"
   ]
  },
  {
   "cell_type": "code",
   "execution_count": 15,
   "id": "a3aea6c8",
   "metadata": {},
   "outputs": [
    {
     "data": {
      "text/html": [
       "<div>\n",
       "<style scoped>\n",
       "    .dataframe tbody tr th:only-of-type {\n",
       "        vertical-align: middle;\n",
       "    }\n",
       "\n",
       "    .dataframe tbody tr th {\n",
       "        vertical-align: top;\n",
       "    }\n",
       "\n",
       "    .dataframe thead th {\n",
       "        text-align: right;\n",
       "    }\n",
       "</style>\n",
       "<table border=\"1\" class=\"dataframe\">\n",
       "  <thead>\n",
       "    <tr style=\"text-align: right;\">\n",
       "      <th></th>\n",
       "      <th>province</th>\n",
       "      <th>region</th>\n",
       "      <th>district</th>\n",
       "      <th>commune</th>\n",
       "      <th>milieu</th>\n",
       "      <th>hh_id</th>\n",
       "      <th>indiv_id</th>\n",
       "      <th>sex</th>\n",
       "      <th>lang_local</th>\n",
       "      <th>lang_french</th>\n",
       "      <th>...</th>\n",
       "      <th>work_status</th>\n",
       "      <th>hh_size</th>\n",
       "      <th>num_children</th>\n",
       "      <th>num_elderly</th>\n",
       "      <th>hoh_age</th>\n",
       "      <th>hoh_highest_school_level</th>\n",
       "      <th>hoh_literacy_english</th>\n",
       "      <th>hoh_literacy_french</th>\n",
       "      <th>hoh_literacy_local</th>\n",
       "      <th>hoh_work_status</th>\n",
       "    </tr>\n",
       "  </thead>\n",
       "  <tbody>\n",
       "    <tr>\n",
       "      <th>0</th>\n",
       "      <td>1</td>\n",
       "      <td>11</td>\n",
       "      <td>111</td>\n",
       "      <td>11101</td>\n",
       "      <td>1</td>\n",
       "      <td>11101101380021139023530353</td>\n",
       "      <td>1110110138002113903530235301</td>\n",
       "      <td>1</td>\n",
       "      <td>1.00</td>\n",
       "      <td>1.00</td>\n",
       "      <td>...</td>\n",
       "      <td>1.00</td>\n",
       "      <td>5</td>\n",
       "      <td>2.00</td>\n",
       "      <td>0.00</td>\n",
       "      <td>35.00</td>\n",
       "      <td>5.00</td>\n",
       "      <td>1.00</td>\n",
       "      <td>1.00</td>\n",
       "      <td>1.00</td>\n",
       "      <td>1.00</td>\n",
       "    </tr>\n",
       "    <tr>\n",
       "      <th>1</th>\n",
       "      <td>1</td>\n",
       "      <td>11</td>\n",
       "      <td>111</td>\n",
       "      <td>11101</td>\n",
       "      <td>1</td>\n",
       "      <td>11101101380041136020270027</td>\n",
       "      <td>1110110138004113600270202707</td>\n",
       "      <td>2</td>\n",
       "      <td>1.00</td>\n",
       "      <td>2.00</td>\n",
       "      <td>...</td>\n",
       "      <td>5.00</td>\n",
       "      <td>7</td>\n",
       "      <td>4.00</td>\n",
       "      <td>1.00</td>\n",
       "      <td>72.00</td>\n",
       "      <td>2.00</td>\n",
       "      <td>2.00</td>\n",
       "      <td>2.00</td>\n",
       "      <td>1.00</td>\n",
       "      <td>6.00</td>\n",
       "    </tr>\n",
       "    <tr>\n",
       "      <th>2</th>\n",
       "      <td>1</td>\n",
       "      <td>11</td>\n",
       "      <td>111</td>\n",
       "      <td>11101</td>\n",
       "      <td>1</td>\n",
       "      <td>11101101080021055022900290</td>\n",
       "      <td>1110110108002015502900229003</td>\n",
       "      <td>1</td>\n",
       "      <td>1.00</td>\n",
       "      <td>2.00</td>\n",
       "      <td>...</td>\n",
       "      <td>NaN</td>\n",
       "      <td>3</td>\n",
       "      <td>1.00</td>\n",
       "      <td>0.00</td>\n",
       "      <td>27.00</td>\n",
       "      <td>3.00</td>\n",
       "      <td>2.00</td>\n",
       "      <td>2.00</td>\n",
       "      <td>1.00</td>\n",
       "      <td>1.00</td>\n",
       "    </tr>\n",
       "    <tr>\n",
       "      <th>3</th>\n",
       "      <td>1</td>\n",
       "      <td>11</td>\n",
       "      <td>111</td>\n",
       "      <td>11101</td>\n",
       "      <td>1</td>\n",
       "      <td>11101101020041005020200020</td>\n",
       "      <td>1110110102004010500200202003</td>\n",
       "      <td>1</td>\n",
       "      <td>NaN</td>\n",
       "      <td>NaN</td>\n",
       "      <td>...</td>\n",
       "      <td>NaN</td>\n",
       "      <td>3</td>\n",
       "      <td>1.00</td>\n",
       "      <td>0.00</td>\n",
       "      <td>24.00</td>\n",
       "      <td>2.00</td>\n",
       "      <td>2.00</td>\n",
       "      <td>2.00</td>\n",
       "      <td>1.00</td>\n",
       "      <td>1.00</td>\n",
       "    </tr>\n",
       "    <tr>\n",
       "      <th>4</th>\n",
       "      <td>1</td>\n",
       "      <td>11</td>\n",
       "      <td>111</td>\n",
       "      <td>11101</td>\n",
       "      <td>1</td>\n",
       "      <td>11101101420021161021750175</td>\n",
       "      <td>1110110142002116101750217505</td>\n",
       "      <td>2</td>\n",
       "      <td>1.00</td>\n",
       "      <td>1.00</td>\n",
       "      <td>...</td>\n",
       "      <td>5.00</td>\n",
       "      <td>5</td>\n",
       "      <td>2.00</td>\n",
       "      <td>0.00</td>\n",
       "      <td>35.00</td>\n",
       "      <td>2.00</td>\n",
       "      <td>2.00</td>\n",
       "      <td>1.00</td>\n",
       "      <td>1.00</td>\n",
       "      <td>1.00</td>\n",
       "    </tr>\n",
       "  </tbody>\n",
       "</table>\n",
       "<p>5 rows × 35 columns</p>\n",
       "</div>"
      ],
      "text/plain": [
       "   province  region  district  commune  milieu                       hh_id  \\\n",
       "0         1      11       111    11101       1  11101101380021139023530353   \n",
       "1         1      11       111    11101       1  11101101380041136020270027   \n",
       "2         1      11       111    11101       1  11101101080021055022900290   \n",
       "3         1      11       111    11101       1  11101101020041005020200020   \n",
       "4         1      11       111    11101       1  11101101420021161021750175   \n",
       "\n",
       "                       indiv_id  sex  lang_local  lang_french  ...  \\\n",
       "0  1110110138002113903530235301    1        1.00         1.00  ...   \n",
       "1  1110110138004113600270202707    2        1.00         2.00  ...   \n",
       "2  1110110108002015502900229003    1        1.00         2.00  ...   \n",
       "3  1110110102004010500200202003    1         NaN          NaN  ...   \n",
       "4  1110110142002116101750217505    2        1.00         1.00  ...   \n",
       "\n",
       "   work_status  hh_size  num_children  num_elderly  hoh_age  \\\n",
       "0         1.00        5          2.00         0.00    35.00   \n",
       "1         5.00        7          4.00         1.00    72.00   \n",
       "2          NaN        3          1.00         0.00    27.00   \n",
       "3          NaN        3          1.00         0.00    24.00   \n",
       "4         5.00        5          2.00         0.00    35.00   \n",
       "\n",
       "   hoh_highest_school_level  hoh_literacy_english  hoh_literacy_french  \\\n",
       "0                      5.00                  1.00                 1.00   \n",
       "1                      2.00                  2.00                 2.00   \n",
       "2                      3.00                  2.00                 2.00   \n",
       "3                      2.00                  2.00                 2.00   \n",
       "4                      2.00                  2.00                 1.00   \n",
       "\n",
       "   hoh_literacy_local  hoh_work_status  \n",
       "0                1.00             1.00  \n",
       "1                1.00             6.00  \n",
       "2                1.00             1.00  \n",
       "3                1.00             1.00  \n",
       "4                1.00             1.00  \n",
       "\n",
       "[5 rows x 35 columns]"
      ]
     },
     "execution_count": 15,
     "metadata": {},
     "output_type": "execute_result"
    }
   ],
   "source": [
    "df.head()"
   ]
  },
  {
   "cell_type": "markdown",
   "id": "9ae757c6",
   "metadata": {},
   "source": [
    "# Task-3-Explore the data"
   ]
  },
  {
   "cell_type": "markdown",
   "id": "df3ca590",
   "metadata": {},
   "source": [
    "# Explolatory Data Analysis (EDA)\n",
    "Before any ML task, its important to understand the data. \n",
    "This is done by exploring the data to understand the data types, missing values, and the distribution of the data. This is important as it helps in understanding the data and the features that can be used in the ML model."
   ]
  },
  {
   "cell_type": "markdown",
   "id": "40d47718",
   "metadata": {},
   "source": [
    "## Provide a brief explanation of which variables you will explore and why"
   ]
  },
  {
   "cell_type": "markdown",
   "id": "d3985a12",
   "metadata": {},
   "source": [
    "My exploratory analysis focused on understanding factors influencing early marriage, my target variable. I began by examining the distribution of age_married, using a histogram, and the prevalence of early_marriage to identify any imbalances in the classes. Indeed, I did notice class imbalance in the target variable, which would need further handling during model building. I then analyzed the relationships between early_marriage and key categorical variables, such as milieu (urban/rural), sex, marital_status, school_attendance, and highest_school_level, using stacked bar charts to observe potential disparities. I explored the impact of household structure on early marriage using boxplots, specifically examining hh_size, num_children, and num_elderly. Finally, I visualized the distribution of age_married specifically for those who married early vs those who did not. I included the pie chart for work_status as this is important information. I analyzed the impact of literacy in different languages on early marriage by examining the cross tabulations of the literacy variables. All of these analyses allow me to understand the demographic, educational, household and economic patterns related to early marriage, as well as the class imbalance."
   ]
  },
  {
   "cell_type": "markdown",
   "id": "4e187a62",
   "metadata": {},
   "source": [
    "## Histogram of age at first marriage\n"
   ]
  },
  {
   "cell_type": "code",
   "execution_count": 16,
   "id": "a70064b4",
   "metadata": {
    "scrolled": false
   },
   "outputs": [
    {
     "data": {
      "image/png": "[encoded data removed]",
      "text/plain": [
       "<Figure size 720x432 with 1 Axes>"
      ]
     },
     "metadata": {
      "needs_background": "light"
     },
     "output_type": "display_data"
    }
   ],
   "source": [
    "import matplotlib.pyplot as plt\n",
    "\n",
    "# Creating the histogram\n",
    "plt.figure(figsize=(10, 6))  # Set the figure size for better clarity\n",
    "df['age_married'].hist(bins=20, color='yellow', edgecolor='black')  # Customize color and edges\n",
    "\n",
    "# Adding title and labels with enhanced styling\n",
    "plt.title('Distribution of Age at First Marriage', fontsize=16, fontweight='bold')\n",
    "plt.xlabel('Age at First Marriage', fontsize=14)\n",
    "plt.ylabel('Frequency', fontsize=14)\n",
    "\n",
    "# Adjust tick parameters for better readability\n",
    "plt.xticks(fontsize=12)\n",
    "plt.yticks(fontsize=12)\n",
    "\n",
    "# Displaying the plot\n",
    "plt.grid(axis='y', linestyle='--', alpha=0.7)  # Optional: Add a grid for easier interpretation\n",
    "plt.show()\n"
   ]
  },
  {
   "cell_type": "markdown",
   "id": "bb075cd7",
   "metadata": {},
   "source": [
    "## Generate Target Variable for Prediction"
   ]
  },
  {
   "cell_type": "code",
   "execution_count": 18,
   "id": "1916391c",
   "metadata": {},
   "outputs": [],
   "source": [
    "# ====================================\n",
    "# ADD EARLY MARRIAGE VARIABLE\n",
    "# ====================================\n",
    "# if age_married < 18, then early_marriage = 1\n",
    "df['early_marriage'] = df['age_married'].apply(lambda x: 1 if x < EARLY_MARRIAGE_AGE_THRESHOLD else 0)"
   ]
  },
  {
   "cell_type": "code",
   "execution_count": 21,
   "id": "71234b51",
   "metadata": {},
   "outputs": [
    {
     "name": "stdout",
     "output_type": "stream",
     "text": [
      "\n",
      "Proportion of Early Marriages:\n",
      "early_marriage\n",
      "0   0.91\n",
      "1   0.09\n",
      "Name: proportion, dtype: float64\n"
     ]
    },
    {
     "data": {
      "image/png": "[encoded data removed]",
      "text/plain": [
       "<Figure size 432x288 with 1 Axes>"
      ]
     },
     "metadata": {
      "needs_background": "light"
     },
     "output_type": "display_data"
    }
   ],
   "source": [
    "# Early Marriage Prevalence\n",
    "early_marriage_counts = df['early_marriage'].value_counts(normalize=True)\n",
    "print(\"\\nProportion of Early Marriages:\")\n",
    "print(early_marriage_counts)\n",
    "plt.bar(early_marriage_counts.index, early_marriage_counts.values)\n",
    "plt.title('Proportion of Early vs. Non-Early Marriages')\n",
    "plt.xlabel('Early Marriage (0=No, 1=Yes)')\n",
    "plt.ylabel('Proportion')\n",
    "plt.xticks([0, 1], ['No', 'Yes'])\n",
    "plt.show()"
   ]
  },
  {
   "cell_type": "code",
   "execution_count": 22,
   "id": "95e75745",
   "metadata": {},
   "outputs": [
    {
     "data": {
      "image/png": "[encoded data removed]",
      "text/plain": [
       "<Figure size 576x432 with 1 Axes>"
      ]
     },
     "metadata": {
      "needs_background": "light"
     },
     "output_type": "display_data"
    }
   ],
   "source": [
    "# --- Relationship between early_marriage and sex ---\n",
    "cross_tab_sex = pd.crosstab(df['early_marriage'], df['sex'], normalize='columns')\n",
    "plt.figure(figsize=(8, 6))\n",
    "cross_tab_sex.T.plot(kind='bar', stacked=True, color=['#ffcc99', '#c2c2f0'], ax=plt.gca())\n",
    "plt.title('Early Marriage by Sex', fontsize=14)\n",
    "plt.ylabel('Proportion', fontsize=12)\n",
    "plt.xticks(rotation=0)\n",
    "plt.tight_layout()\n",
    "plt.show()\n"
   ]
  },
  {
   "cell_type": "code",
   "execution_count": 23,
   "id": "2eee8b6b",
   "metadata": {},
   "outputs": [
    {
     "name": "stderr",
     "output_type": "stream",
     "text": [
      "<ipython-input-23-acff5e98986f>:4: MatplotlibDeprecationWarning: The 'labels' parameter of boxplot() has been renamed 'tick_labels' since Matplotlib 3.9; support for the old name will be dropped in 3.11.\n",
      "  plt.boxplot(data_to_plot_children, labels=['Not Early Marriage', 'Early Marriage'], patch_artist=True,\n"
     ]
    },
    {
     "data": {
      "image/png": "[encoded data removed]",
      "text/plain": [
       "<Figure size 576x360 with 1 Axes>"
      ]
     },
     "metadata": {
      "needs_background": "light"
     },
     "output_type": "display_data"
    }
   ],
   "source": [
    "# --- Boxplot of num_children by Early Marriage Status ---\n",
    "plt.figure(figsize=(8, 5))\n",
    "data_to_plot_children = [df[df['early_marriage'] == 0]['num_children'], df[df['early_marriage'] == 1]['num_children']]\n",
    "plt.boxplot(data_to_plot_children, labels=['Not Early Marriage', 'Early Marriage'], patch_artist=True,\n",
    "           boxprops=dict(facecolor='lightcoral'),\n",
    "            medianprops=dict(color='black'))\n",
    "plt.title('Boxplot of Number of Children by Early Marriage Status', fontsize=14)\n",
    "plt.xlabel('Early Marriage', fontsize=12)\n",
    "plt.ylabel('Number of Children', fontsize=12)\n",
    "plt.grid(axis='y', alpha=0.75)\n",
    "plt.show()"
   ]
  },
  {
   "cell_type": "code",
   "execution_count": 24,
   "id": "5434be29",
   "metadata": {},
   "outputs": [
    {
     "name": "stderr",
     "output_type": "stream",
     "text": [
      "<ipython-input-24-6fd70a003ff8>:4: MatplotlibDeprecationWarning: The 'labels' parameter of boxplot() has been renamed 'tick_labels' since Matplotlib 3.9; support for the old name will be dropped in 3.11.\n",
      "  plt.boxplot(data_to_plot_hhsize, labels=['Not Early Marriage', 'Early Marriage'], patch_artist=True,\n"
     ]
    },
    {
     "data": {
      "image/png": "[encoded data removed]",
      "text/plain": [
       "<Figure size 576x360 with 1 Axes>"
      ]
     },
     "metadata": {
      "needs_background": "light"
     },
     "output_type": "display_data"
    }
   ],
   "source": [
    "# --- Boxplot of hh_size by Early Marriage Status ---\n",
    "plt.figure(figsize=(8, 5))\n",
    "data_to_plot_hhsize = [df[df['early_marriage'] == 0]['hh_size'], df[df['early_marriage'] == 1]['hh_size']]\n",
    "plt.boxplot(data_to_plot_hhsize, labels=['Not Early Marriage', 'Early Marriage'], patch_artist=True,\n",
    "            boxprops=dict(facecolor='lightskyblue'),\n",
    "            medianprops=dict(color='black'))\n",
    "plt.title('Boxplot of Household Size by Early Marriage Status', fontsize=14)\n",
    "plt.xlabel('Early Marriage', fontsize=12)\n",
    "plt.ylabel('Household Size', fontsize=12)\n",
    "plt.grid(axis='y', alpha=0.75)\n",
    "plt.show()"
   ]
  },
  {
   "cell_type": "code",
   "execution_count": 25,
   "id": "76f69f8b",
   "metadata": {
    "scrolled": true
   },
   "outputs": [
    {
     "name": "stdout",
     "output_type": "stream",
     "text": [
      "              age  age_married     hh_size  num_children  num_elderly\n",
      "count 25673315.00  10341766.00 25674196.00   25674196.00  25674196.00\n",
      "mean        22.37        20.71        5.42          2.60         0.11\n",
      "std         17.82         5.03        2.50          1.88         0.37\n",
      "min          0.00         8.00        1.00          0.00         0.00\n",
      "25%          8.00        18.00        4.00          1.00         0.00\n",
      "50%         18.00        20.00        5.00          2.00         0.00\n",
      "75%         33.00        23.00        7.00          4.00         0.00\n",
      "max         95.00        98.00       50.00         26.00        15.00\n",
      "marital_status\n",
      "2.00    9075215\n",
      "1.00    6529070\n",
      "3.00     870705\n",
      "4.00     568993\n",
      "Name: count, dtype: int64\n"
     ]
    }
   ],
   "source": [
    "print(df[['age','age_married', 'hh_size','num_children', 'num_elderly']].describe())\n",
    "print(df['marital_status'].value_counts())"
   ]
  },
  {
   "cell_type": "markdown",
   "id": "48f8529f",
   "metadata": {},
   "source": [
    "# Task-4-Prepare data for ML model building"
   ]
  },
  {
   "cell_type": "markdown",
   "id": "6a519a1b",
   "metadata": {},
   "source": [
    "## Do you think its a good idea to add communes? Please explain your reasoning."
   ]
  },
  {
   "cell_type": "markdown",
   "id": "821d1756",
   "metadata": {},
   "source": [
    "Adding communes as a feature has both potential benefits and drawbacks that I need to consider carefully. On one hand, communes could provide valuable geographic granularity. Communes are smaller administrative units than districts, regions, or provinces, and might capture very specific local factors that influence early marriage, such as cultural norms or community-specific economic conditions. This added detail could potentially allow my model to learn more precise patterns, leading to improved prediction accuracy.\n",
    "\n",
    "However, on the other hand, including communes could lead to several problems. Firstly, increased dimensionality is a major concern. There are likely to be many unique communes in the dataset. If each commune is one-hot encoded into a separate column, it could create a large number of sparse and potentially less informative features. This increase in dimensionality can lead to overfitting, where the model learns the training data too well but performs poorly on unseen data. Additionally, some communes might have very few observations, reducing the statistical power of those features. Finally, there's the possibility of introducing noise into the model, since some communes may be very similar in characteristics and therefore might not add unique information.\n",
    "\n",
    "Given the risks of high dimensionality, potential overfitting, and noise, I decided not to include communes as a feature. I believe the geographic information provided by provinces, regions, and districts is sufficient for this analysis and provides a better balance between granularity and model stability."
   ]
  },
  {
   "cell_type": "markdown",
   "id": "d6d8c3a2",
   "metadata": {},
   "source": [
    "## Drop Observations\n",
    "- In this datasets, the marriage variabels are available for all individuals who are 12 years old or older. We can drop the observations where the marriage status is not available.\n",
    "- Age at first marriage also makes sense for people who are currently married, divorced or widowed."
   ]
  },
  {
   "cell_type": "code",
   "execution_count": 26,
   "id": "43779b6e",
   "metadata": {},
   "outputs": [],
   "source": [
    "# Keep only individuals who are 12 years and above\n",
    "df_marr = df[df['age'] >= 12]"
   ]
  },
  {
   "cell_type": "code",
   "execution_count": 27,
   "id": "85cfa90f",
   "metadata": {},
   "outputs": [],
   "source": [
    "# Keep only individuals who were ever married (currently married, divorced or widowed)\n",
    "df_marr = df_marr[df_marr['marital_status'] != 1]"
   ]
  },
  {
   "cell_type": "markdown",
   "id": "048bdf11",
   "metadata": {},
   "source": [
    "## Features for Prediction"
   ]
  },
  {
   "cell_type": "code",
   "execution_count": 28,
   "id": "337bdfa7",
   "metadata": {},
   "outputs": [],
   "source": [
    "def convert2int(x):\n",
    "    try:\n",
    "        # Check if value is a float and has no decimal part\n",
    "        if isinstance(x, float) and x.is_integer():\n",
    "            return int(x)\n",
    "        elif isinstance(x, int):  # Handle integers directly\n",
    "            return x\n",
    "        else:\n",
    "            return np.nan  # Return NaN for anything else\n",
    "    except:\n",
    "        return np.nan"
   ]
  },
  {
   "cell_type": "code",
   "execution_count": 29,
   "id": "9b2d92fe",
   "metadata": {},
   "outputs": [],
   "source": [
    "# ====================================\n",
    "# PREPARE DATA FOR ML MODELS\n",
    "# ====================================\n",
    "numeric_cols = ['age','age_married','years_at_school_level', 'highest_school_level']\n",
    "for col in numeric_cols:\n",
    "    df_marr[col] = df_marr[col].apply(convert2int)\n",
    "\n",
    "# PREPARE DATA FOR ML MODELS\n",
    "# Target variable for prediction\n",
    "target_var = 'early_marriage'\n",
    "\n",
    "# Features to use for prediction\n",
    "features = [\n",
    "        'province', 'region', 'district', 'milieu', 'sex',\n",
    "        'lang_local', 'lang_french', 'lang_english',\n",
    "        'literacy_local', 'literacy_french', 'literacy_english',\n",
    "        'hh_relation', 'age', 'marital_status',\n",
    "        'school_attendance', 'highest_school_level',\n",
    "        'work_status', 'hh_size','num_children','num_elderly',\n",
    "        'hoh_age', 'hoh_highest_school_level','hoh_literacy_english',\n",
    "        'hoh_literacy_french','hoh_literacy_local','hoh_work_status'\n",
    "        ]\n"
   ]
  },
  {
   "cell_type": "code",
   "execution_count": 30,
   "id": "5945184c",
   "metadata": {},
   "outputs": [],
   "source": [
    "#convert numeric variables to int\n",
    "numeric_cols = ['age','age_married','years_at_school_level', 'highest_school_level']\n",
    "for col in numeric_cols:\n",
    "    df_marr[col] = df_marr[col].apply(convert2int)\n",
    "    \n",
    "# Remove rows with NaN values after converting to int\n",
    "df_marr.dropna(subset=numeric_cols, inplace=True)"
   ]
  },
  {
   "cell_type": "code",
   "execution_count": 31,
   "id": "f462528d",
   "metadata": {},
   "outputs": [],
   "source": [
    "# ====================================\n",
    "# DEAL WITH MISSING VALUES\n",
    "# ====================================\n",
    "# Fill missing values with the mode for categorical variables\n",
    "# and mean/median for continuous variables\n",
    "for col in features:\n",
    "    if df_marr[col].dtype == 'object' or df_marr[col].dtype == 'category':\n",
    "        df_marr[col] = df_marr[col].fillna(df_marr[col].mode()[0])\n",
    "    else:\n",
    "        df_marr[col] = df_marr[col].fillna(df_marr[col].median())"
   ]
  },
  {
   "cell_type": "code",
   "execution_count": 32,
   "id": "3e9f1658",
   "metadata": {},
   "outputs": [],
   "source": [
    "# ============================================\n",
    "# DEAL WITH OUTLIERS IN CONTINUOUS VARIABLES\n",
    "# =============================================\n",
    "# Age, drop all observations with age > 100\n",
    "df_marr = df_marr[df_marr['age'] <= 100]\n",
    "\n",
    "# HH_SIZE, drop all observations with hh_size > 20\n",
    "df_marr = df_marr[df_marr['hh_size'] <= 20]\n",
    "\n",
    "# NUM_CHILDREN, drop all observations with num_children > 1\n",
    "df_marr = df_marr[df_marr['num_children'] <= 15]\n",
    "\n",
    "# NUM_ELDERLY, drop all observations with num_elderly > 1\n",
    "df_marr = df_marr[df_marr['num_elderly'] <= 10]"
   ]
  },
  {
   "cell_type": "code",
   "execution_count": 33,
   "id": "beb7b696",
   "metadata": {},
   "outputs": [],
   "source": [
    "# ============================================\n",
    "# ONE-HOT ENCODING FOR CATEGORICAL VARIABLES\n",
    "# ============================================\n",
    "df_marr_dummies = pd.get_dummies(df_marr, columns=[col for col in features if df_marr[col].dtype == 'object' or df_marr[col].dtype == 'category'], drop_first=True)\n",
    "# Convert True/False to 1/0\n",
    "df_marr_dummies = df_marr_dummies.astype({col: 'int' for col in df_marr_dummies.columns if df_marr_dummies[col].dtype == 'bool'})\n",
    "\n"
   ]
  },
  {
   "cell_type": "code",
   "execution_count": 34,
   "id": "efae9f8e",
   "metadata": {
    "scrolled": false
   },
   "outputs": [
    {
     "name": "stderr",
     "output_type": "stream",
     "text": [
      "<ipython-input-34-2e4cde7f4c53>:2: FutureWarning: A value is trying to be set on a copy of a DataFrame or Series through chained assignment using an inplace method.\n",
      "The behavior will change in pandas 3.0. This inplace method will never work because the intermediate object on which we are setting values always behaves as a copy.\n",
      "\n",
      "For example, when doing 'df[col].method(value, inplace=True)', try using 'df.method({col: value}, inplace=True)' or df[col] = df[col].method(value) instead, to perform the operation inplace on the original object.\n",
      "\n",
      "\n",
      "  df_marr_dummies['lang_other'].fillna(df_marr_dummies['lang_other'].mode()[0], inplace=True)\n",
      "<ipython-input-34-2e4cde7f4c53>:3: FutureWarning: A value is trying to be set on a copy of a DataFrame or Series through chained assignment using an inplace method.\n",
      "The behavior will change in pandas 3.0. This inplace method will never work because the intermediate object on which we are setting values always behaves as a copy.\n",
      "\n",
      "For example, when doing 'df[col].method(value, inplace=True)', try using 'df.method({col: value}, inplace=True)' or df[col] = df[col].method(value) instead, to perform the operation inplace on the original object.\n",
      "\n",
      "\n",
      "  df_marr_dummies['literacy_other'].fillna(df_marr_dummies['literacy_other'].mode()[0], inplace=True)\n"
     ]
    }
   ],
   "source": [
    "# Fill missing values in 'lang_other' and 'literacy_other' with their respective mode\n",
    "df_marr_dummies['lang_other'].fillna(df_marr_dummies['lang_other'].mode()[0], inplace=True)\n",
    "df_marr_dummies['literacy_other'].fillna(df_marr_dummies['literacy_other'].mode()[0], inplace=True)"
   ]
  },
  {
   "cell_type": "code",
   "execution_count": 35,
   "id": "dd85ae4e",
   "metadata": {},
   "outputs": [
    {
     "name": "stdout",
     "output_type": "stream",
     "text": [
      "province                    0\n",
      "region                      0\n",
      "district                    0\n",
      "commune                     0\n",
      "milieu                      0\n",
      "hh_id                       0\n",
      "indiv_id                    0\n",
      "sex                         0\n",
      "lang_local                  0\n",
      "lang_french                 0\n",
      "lang_english                0\n",
      "lang_other                  0\n",
      "literacy_local              0\n",
      "literacy_french             0\n",
      "literacy_english            0\n",
      "literacy_other              0\n",
      "hh_relation                 0\n",
      "birth_month                 0\n",
      "birth_year                  0\n",
      "age                         0\n",
      "marital_status              0\n",
      "age_married                 0\n",
      "school_attendance           0\n",
      "highest_school_level        0\n",
      "years_at_school_level       0\n",
      "work_status                 0\n",
      "hh_size                     0\n",
      "num_children                0\n",
      "num_elderly                 0\n",
      "hoh_age                     0\n",
      "hoh_highest_school_level    0\n",
      "hoh_literacy_english        0\n",
      "hoh_literacy_french         0\n",
      "hoh_literacy_local          0\n",
      "hoh_work_status             0\n",
      "early_marriage              0\n",
      "dtype: int64\n"
     ]
    }
   ],
   "source": [
    "# Verify there are no missing values remaining\n",
    "print(df_marr_dummies.isnull().sum())"
   ]
  },
  {
   "cell_type": "code",
   "execution_count": 36,
   "id": "35bda53a",
   "metadata": {},
   "outputs": [
    {
     "data": {
      "text/html": [
       "<div>\n",
       "<style scoped>\n",
       "    .dataframe tbody tr th:only-of-type {\n",
       "        vertical-align: middle;\n",
       "    }\n",
       "\n",
       "    .dataframe tbody tr th {\n",
       "        vertical-align: top;\n",
       "    }\n",
       "\n",
       "    .dataframe thead th {\n",
       "        text-align: right;\n",
       "    }\n",
       "</style>\n",
       "<table border=\"1\" class=\"dataframe\">\n",
       "  <thead>\n",
       "    <tr style=\"text-align: right;\">\n",
       "      <th></th>\n",
       "      <th>province</th>\n",
       "      <th>region</th>\n",
       "      <th>district</th>\n",
       "      <th>commune</th>\n",
       "      <th>milieu</th>\n",
       "      <th>hh_id</th>\n",
       "      <th>indiv_id</th>\n",
       "      <th>sex</th>\n",
       "      <th>lang_local</th>\n",
       "      <th>lang_french</th>\n",
       "      <th>...</th>\n",
       "      <th>hh_size</th>\n",
       "      <th>num_children</th>\n",
       "      <th>num_elderly</th>\n",
       "      <th>hoh_age</th>\n",
       "      <th>hoh_highest_school_level</th>\n",
       "      <th>hoh_literacy_english</th>\n",
       "      <th>hoh_literacy_french</th>\n",
       "      <th>hoh_literacy_local</th>\n",
       "      <th>hoh_work_status</th>\n",
       "      <th>early_marriage</th>\n",
       "    </tr>\n",
       "  </thead>\n",
       "  <tbody>\n",
       "    <tr>\n",
       "      <th>0</th>\n",
       "      <td>1</td>\n",
       "      <td>11</td>\n",
       "      <td>111</td>\n",
       "      <td>11101</td>\n",
       "      <td>1</td>\n",
       "      <td>11101101380021139023530353</td>\n",
       "      <td>1110110138002113903530235301</td>\n",
       "      <td>1</td>\n",
       "      <td>1.00</td>\n",
       "      <td>1.00</td>\n",
       "      <td>...</td>\n",
       "      <td>5</td>\n",
       "      <td>2.00</td>\n",
       "      <td>0.00</td>\n",
       "      <td>35.00</td>\n",
       "      <td>5.00</td>\n",
       "      <td>1.00</td>\n",
       "      <td>1.00</td>\n",
       "      <td>1.00</td>\n",
       "      <td>1.00</td>\n",
       "      <td>0</td>\n",
       "    </tr>\n",
       "    <tr>\n",
       "      <th>6</th>\n",
       "      <td>1</td>\n",
       "      <td>11</td>\n",
       "      <td>111</td>\n",
       "      <td>11101</td>\n",
       "      <td>1</td>\n",
       "      <td>11101101370011134020330033</td>\n",
       "      <td>1110110137001113400330203302</td>\n",
       "      <td>2</td>\n",
       "      <td>1.00</td>\n",
       "      <td>1.00</td>\n",
       "      <td>...</td>\n",
       "      <td>9</td>\n",
       "      <td>2.00</td>\n",
       "      <td>1.00</td>\n",
       "      <td>64.00</td>\n",
       "      <td>5.00</td>\n",
       "      <td>2.00</td>\n",
       "      <td>1.00</td>\n",
       "      <td>1.00</td>\n",
       "      <td>1.00</td>\n",
       "      <td>0</td>\n",
       "    </tr>\n",
       "    <tr>\n",
       "      <th>13</th>\n",
       "      <td>1</td>\n",
       "      <td>11</td>\n",
       "      <td>111</td>\n",
       "      <td>11101</td>\n",
       "      <td>1</td>\n",
       "      <td>11101101080051077022650265</td>\n",
       "      <td>1110110108005017702650226502</td>\n",
       "      <td>2</td>\n",
       "      <td>1.00</td>\n",
       "      <td>2.00</td>\n",
       "      <td>...</td>\n",
       "      <td>4</td>\n",
       "      <td>1.00</td>\n",
       "      <td>0.00</td>\n",
       "      <td>56.00</td>\n",
       "      <td>3.00</td>\n",
       "      <td>1.00</td>\n",
       "      <td>1.00</td>\n",
       "      <td>1.00</td>\n",
       "      <td>1.00</td>\n",
       "      <td>0</td>\n",
       "    </tr>\n",
       "    <tr>\n",
       "      <th>14</th>\n",
       "      <td>1</td>\n",
       "      <td>11</td>\n",
       "      <td>111</td>\n",
       "      <td>11101</td>\n",
       "      <td>1</td>\n",
       "      <td>11101101120021091021930193</td>\n",
       "      <td>1110110112002019101930219301</td>\n",
       "      <td>1</td>\n",
       "      <td>1.00</td>\n",
       "      <td>1.00</td>\n",
       "      <td>...</td>\n",
       "      <td>3</td>\n",
       "      <td>1.00</td>\n",
       "      <td>0.00</td>\n",
       "      <td>25.00</td>\n",
       "      <td>3.00</td>\n",
       "      <td>2.00</td>\n",
       "      <td>1.00</td>\n",
       "      <td>1.00</td>\n",
       "      <td>1.00</td>\n",
       "      <td>0</td>\n",
       "    </tr>\n",
       "    <tr>\n",
       "      <th>16</th>\n",
       "      <td>1</td>\n",
       "      <td>11</td>\n",
       "      <td>111</td>\n",
       "      <td>11101</td>\n",
       "      <td>1</td>\n",
       "      <td>11101101170011109022240224</td>\n",
       "      <td>1110110117001110902240222401</td>\n",
       "      <td>2</td>\n",
       "      <td>1.00</td>\n",
       "      <td>1.00</td>\n",
       "      <td>...</td>\n",
       "      <td>5</td>\n",
       "      <td>2.00</td>\n",
       "      <td>0.00</td>\n",
       "      <td>35.00</td>\n",
       "      <td>3.00</td>\n",
       "      <td>1.00</td>\n",
       "      <td>1.00</td>\n",
       "      <td>1.00</td>\n",
       "      <td>1.00</td>\n",
       "      <td>0</td>\n",
       "    </tr>\n",
       "  </tbody>\n",
       "</table>\n",
       "<p>5 rows × 36 columns</p>\n",
       "</div>"
      ],
      "text/plain": [
       "    province  region  district  commune  milieu                       hh_id  \\\n",
       "0          1      11       111    11101       1  11101101380021139023530353   \n",
       "6          1      11       111    11101       1  11101101370011134020330033   \n",
       "13         1      11       111    11101       1  11101101080051077022650265   \n",
       "14         1      11       111    11101       1  11101101120021091021930193   \n",
       "16         1      11       111    11101       1  11101101170011109022240224   \n",
       "\n",
       "                        indiv_id  sex  lang_local  lang_french  ...  hh_size  \\\n",
       "0   1110110138002113903530235301    1        1.00         1.00  ...        5   \n",
       "6   1110110137001113400330203302    2        1.00         1.00  ...        9   \n",
       "13  1110110108005017702650226502    2        1.00         2.00  ...        4   \n",
       "14  1110110112002019101930219301    1        1.00         1.00  ...        3   \n",
       "16  1110110117001110902240222401    2        1.00         1.00  ...        5   \n",
       "\n",
       "    num_children  num_elderly  hoh_age  hoh_highest_school_level  \\\n",
       "0           2.00         0.00    35.00                      5.00   \n",
       "6           2.00         1.00    64.00                      5.00   \n",
       "13          1.00         0.00    56.00                      3.00   \n",
       "14          1.00         0.00    25.00                      3.00   \n",
       "16          2.00         0.00    35.00                      3.00   \n",
       "\n",
       "    hoh_literacy_english  hoh_literacy_french  hoh_literacy_local  \\\n",
       "0                   1.00                 1.00                1.00   \n",
       "6                   2.00                 1.00                1.00   \n",
       "13                  1.00                 1.00                1.00   \n",
       "14                  2.00                 1.00                1.00   \n",
       "16                  1.00                 1.00                1.00   \n",
       "\n",
       "    hoh_work_status  early_marriage  \n",
       "0              1.00               0  \n",
       "6              1.00               0  \n",
       "13             1.00               0  \n",
       "14             1.00               0  \n",
       "16             1.00               0  \n",
       "\n",
       "[5 rows x 36 columns]"
      ]
     },
     "execution_count": 36,
     "metadata": {},
     "output_type": "execute_result"
    }
   ],
   "source": [
    "df_marr_dummies.head()"
   ]
  },
  {
   "cell_type": "code",
   "execution_count": 37,
   "id": "78e6aba5",
   "metadata": {},
   "outputs": [],
   "source": [
    "from sklearn.preprocessing import Normalizer\n",
    "from sklearn.model_selection import train_test_split\n",
    "from sklearn.linear_model import LogisticRegression\n",
    "from sklearn.metrics import accuracy_score, classification_report\n",
    "from sklearn.ensemble import RandomForestClassifier"
   ]
  },
  {
   "cell_type": "code",
   "execution_count": 38,
   "id": "54f8173d",
   "metadata": {},
   "outputs": [],
   "source": [
    "def random_forest_with_sklearn(df, num_estimators=100):\n",
    "    # Define features and target\n",
    "    X = df_marr_dummies.drop(columns=['early_marriage'])  # Features\n",
    "    y = df_marr_dummies['early_marriage']  # Target\n",
    "\n",
    "\n",
    "    # Split the data\n",
    "    X_train, X_test, y_train, y_test = train_test_split(X, y, test_size=0.3, random_state=42)\n",
    "\n",
    "    # Normalize the data\n",
    "    normalizer = Normalizer(norm='l2')\n",
    "    X_train_scaled = normalizer.fit_transform(X_train)\n",
    "    X_test_scaled = normalizer.transform(X_test)\n",
    "\n",
    "\n",
    "    # Initialize the Random Forest model\n",
    "    rf_model = RandomForestClassifier(n_estimators=num_estimators, random_state=42, n_jobs=-1)\n",
    "\n",
    "    # Train the model\n",
    "    rf_model.fit(X_train_scaled, y_train)\n",
    "\n",
    "    # Make predictions\n",
    "    y_pred = rf_model.predict(X_test_scaled)\n",
    "\n",
    "    # Evaluate the model\n",
    "    accuracy = accuracy_score(y_test, y_pred)\n",
    "    report = classification_report(y_test, y_pred)\n",
    "\n",
    "    print(f\"Accuracy: {accuracy}\")\n",
    "    print(\"Classification Report:\")\n",
    "    print(report)\n",
    "\n",
    "    return rf_model"
   ]
  },
  {
   "cell_type": "code",
   "execution_count": 39,
   "id": "58459c02",
   "metadata": {},
   "outputs": [],
   "source": [
    "def evaluate_models_sklearn(df):\n",
    "    # Define the target variable and features\n",
    "    # Define features and target\n",
    "    X = df_marr_dummies.drop(columns=['early_marriage'])  # Features\n",
    "    y = df_marr_dummies['early_marriage']  # Target\n",
    "\n",
    "\n",
    "    # Split the data\n",
    "    X_train, X_test, y_train, y_test = train_test_split(X, y, test_size=0.3, random_state=42)\n",
    "\n",
    "    # Normalize the data\n",
    "    normalizer = Normalizer(norm='l2')\n",
    "    X_train_scaled = normalizer.fit_transform(X_train)\n",
    "    X_test_scaled = normalizer.transform(X_test)\n",
    "\n",
    "\n",
    "    # Initialize the models\n",
    "    models = {\n",
    "        \"Logistic Regression\": LR(max_iter=1000, random_state=42),\n",
    "        \"Random Forest\": RF(n_estimators=100, random_state=42, n_jobs=-1),\n",
    "        \"Gradient Boosting\": GBM(n_estimators=100, random_state=42),\n",
    "        \"Extra Trees\": ETC(n_estimators=100, random_state=42, n_jobs=-1)\n",
    "    }\n",
    "\n",
    "    # Train and evaluate each model\n",
    "    results = []\n",
    "    for name, model in models.items():\n",
    "        model.fit(X_train_scaled, y_train)\n",
    "        y_pred = model.predict(X_test_scaled)\n",
    "        accuracy = accuracy_score(y_test, y_pred)\n",
    "        results.append([name, accuracy])\n",
    "\n",
    "    # Print the results in a tabular format\n",
    "    print(tabulate(results, headers=[\"Model\", \"Accuracy\"], tablefmt=\"pretty\"))"
   ]
  },
  {
   "cell_type": "code",
   "execution_count": 40,
   "id": "b77dfc6a",
   "metadata": {},
   "outputs": [
    {
     "name": "stdout",
     "output_type": "stream",
     "text": [
      "Results with sklearn\n",
      "+---------------------+--------------------+\n",
      "|        Model        |      Accuracy      |\n",
      "+---------------------+--------------------+\n",
      "| Logistic Regression | 0.8067490749147995 |\n",
      "|    Random Forest    | 0.8067490749147995 |\n",
      "|  Gradient Boosting  | 0.8067490749147995 |\n",
      "|     Extra Trees     | 0.8067490749147995 |\n",
      "+---------------------+--------------------+\n"
     ]
    }
   ],
   "source": [
    "# Build and evaluate the models using the df_marr2_dummies DataFrame\n",
    "print(\"Results with sklearn\")\n",
    "evaluate_models_sklearn(df_marr_dummies)\n"
   ]
  },
  {
   "cell_type": "code",
   "execution_count": 71,
   "id": "88c7fc40",
   "metadata": {},
   "outputs": [],
   "source": [
    "def evaluate_models_spark(df, target_var):\n",
    "    \"\"\"\n",
    "    Evaluate multiple machine learning models using Spark MLlib on the given DataFrame,\n",
    "    with added normalization step.\n",
    "\n",
    "    Parameters:\n",
    "    ----------\n",
    "    df : pyspark.sql.DataFrame\n",
    "        The input DataFrame containing features and the target variable.\n",
    "    target_var : str\n",
    "        The name of the target variable column.\n",
    "\n",
    "    Returns:\n",
    "    -------\n",
    "    None\n",
    "    \"\"\"\n",
    "    from pyspark.ml.feature import VectorAssembler, Normalizer\n",
    "    from pyspark.ml.classification import (\n",
    "        LogisticRegression,\n",
    "        RandomForestClassifier,\n",
    "        GBTClassifier,\n",
    "        DecisionTreeClassifier,\n",
    "    )\n",
    "    from pyspark.ml.evaluation import MulticlassClassificationEvaluator\n",
    "\n",
    "    # Define the features\n",
    "    features = [col for col in df.columns if col != target_var]\n",
    "\n",
    "    # Assemble features into a single vector\n",
    "    assembler = VectorAssembler(inputCols=features, outputCol=\"features\")\n",
    "    assembled_df = assembler.transform(df)\n",
    "\n",
    "    # Normalize the features\n",
    "    normalizer = Normalizer().setP(2).setInputCol(\"features\").setOutputCol(\"features_normalized\")\n",
    "    normalized_df = normalizer.transform(assembled_df)\n",
    "\n",
    "    # Select only the normalized features and the target variable\n",
    "    df = normalized_df.select(\"features_normalized\", target_var).withColumnRenamed(\"features_normalized\", \"features\")\n",
    "\n",
    "    # Split the data into training and testing sets\n",
    "    train_df, test_df = df.randomSplit([0.7, 0.3], seed=42)\n",
    "\n",
    "    # Initialize models\n",
    "    models = {\n",
    "        \"Logistic Regression\": LogisticRegression(maxIter=50).setFeaturesCol(\"features\").setLabelCol(target_var),\n",
    "        \"Random Forest\": RandomForestClassifier(numTrees=100, seed=42).setFeaturesCol(\"features\").setLabelCol(target_var),\n",
    "        \"Gradient Boosting\": GBTClassifier(maxIter=100, seed=42).setFeaturesCol(\"features\").setLabelCol(target_var),\n",
    "        \"Decision Tree\": DecisionTreeClassifier(seed=42).setFeaturesCol(\"features\").setLabelCol(target_var),\n",
    "    }\n",
    "\n",
    "    # Initialize evaluator\n",
    "    evaluator = MulticlassClassificationEvaluator(labelCol=target_var, predictionCol=\"prediction\", metricName=\"accuracy\")\n",
    "\n",
    "    # Train and evaluate each model\n",
    "    results = []\n",
    "    for name, model in models.items():\n",
    "        # Train the model\n",
    "        trained_model = model.fit(train_df)\n",
    "\n",
    "        # Make predictions\n",
    "        predictions = trained_model.transform(test_df)\n",
    "\n",
    "        # Evaluate accuracy\n",
    "        accuracy = evaluator.evaluate(predictions)\n",
    "\n",
    "        # Append results\n",
    "        results.append([name, accuracy])\n",
    "\n",
    "    # Print results in a tabular format\n",
    "    from tabulate import tabulate\n",
    "    print(tabulate(results, headers=[\"Model\", \"Accuracy\"], tablefmt=\"pretty\"))\n"
   ]
  },
  {
   "cell_type": "code",
   "execution_count": 42,
   "id": "8a4c53d5",
   "metadata": {},
   "outputs": [],
   "source": [
    "sdf_marr = spark.createDataFrame(df_marr_dummies)"
   ]
  },
  {
   "cell_type": "code",
   "execution_count": 45,
   "id": "70141b33",
   "metadata": {},
   "outputs": [],
   "source": [
    "# Drop hh_id and indiv_id from sdf_marr\n",
    "sdf_marr = sdf_marr.drop('hh_id', 'indiv_id')"
   ]
  },
  {
   "cell_type": "code",
   "execution_count": null,
   "id": "a893257b",
   "metadata": {},
   "outputs": [],
   "source": [
    "print(\"Results with spark\")\n",
    "evaluate_models_spark(sdf_marr,\"early_marriage\")"
   ]
  },
  {
   "cell_type": "code",
   "execution_count": null,
   "id": "94140aac",
   "metadata": {},
   "outputs": [],
   "source": [
    "\n",
    "# Top factors from the best model (Gradient Boosting)\n",
    "# Scikit-learn\n",
    "target_var = 'early_marriage'\n",
    "features = df_marr_dummies.columns[df_marr_dummies.columns != target_var]\n",
    "\n",
    "X = df_marr_dummies[features]\n",
    "y = df_marr_dummies[target_var]\n",
    "X_train, X_test, y_train, y_test = train_test_split(X, y, test_size=0.3, random_state=42)\n",
    "\n",
    "gbm_model = GBM(n_estimators=100, random_state=42)\n",
    "gbm_model.fit(X_train, y_train)\n",
    "feature_importance = pd.DataFrame({'feature':features,'importance':gbm_model.feature_importances_})\n",
    "feature_importance = feature_importance.sort_values('importance', ascending=False)\n",
    "print(f\"Top five factors (using Gradient Boosting):\")\n",
    "print(feature_importance.head(5))"
   ]
  }
 ],
 "metadata": {
  "kernelspec": {
   "display_name": "Python 3",
   "language": "python",
   "name": "python3"
  },
  "language_info": {
   "codemirror_mode": {
    "name": "ipython",
    "version": 3
   },
   "file_extension": ".py",
   "mimetype": "text/x-python",
   "name": "python",
   "nbconvert_exporter": "python",
   "pygments_lexer": "ipython3",
   "version": "3.9.2"
  },
  "toc": {
   "base_numbering": 1,
   "nav_menu": {},
   "number_sections": false,
   "sideBar": true,
   "skip_h1_title": false,
   "title_cell": "Table of Contents",
   "title_sidebar": "Contents",
   "toc_cell": false,
   "toc_position": {},
   "toc_section_display": true,
   "toc_window_display": false
  }
 },
 "nbformat": 4,
 "nbformat_minor": 5
}
