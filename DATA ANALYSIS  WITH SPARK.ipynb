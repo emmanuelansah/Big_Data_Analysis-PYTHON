{
 "cells": [
  {
   "cell_type": "code",
   "execution_count": 2,
   "metadata": {
    "id": "HFjW5m4Q3OSr"
   },
   "outputs": [],
   "source": [
    "# Packages Used\n",
    "from pyspark.sql import SparkSession\n",
    "from pyspark.sql.functions import col, to_timestamp, date_format, mean, approx_count_distinct, corr\n",
    "import pandas as pd\n",
    "import numpy as np\n",
    "import matplotlib.pyplot as plt\n",
    "import seaborn as sns\n",
    "from datetime import datetime\n",
    "import random\n",
    "from pathlib import Path\n",
    "import os\n",
    "import pyspark.sql.functions as F\n"
   ]
  },
  {
   "cell_type": "code",
   "execution_count": 3,
   "metadata": {
    "id": "N3XDZf4q3Tac"
   },
   "outputs": [],
   "source": [
    "import sys\n",
    "sys.path.append(\"/home/emmmanuel/BDA/Ass_2/\")\n",
    "import mob_data_utils as ut"
   ]
  },
  {
   "cell_type": "markdown",
   "metadata": {
    "id": "MPpjd7mPftH1"
   },
   "source": [
    "# Mobility Data Analysis\n",
    "1. Scoping\n",
    "2.  Preprocress the data\n",
    "3. Explolatory Data Analysis (EDA)\n",
    "4. Generate user trips and other user attributes\n",
    "5. Perfom analysis of user data to generate individual level metrics\n",
    "6. Generate aggregate metrics such as OD"
   ]
  },
  {
   "cell_type": "markdown",
   "metadata": {
    "id": "3poB5_8lftH2"
   },
   "source": [
    "# Project Scoping"
   ]
  },
  {
   "cell_type": "markdown",
   "metadata": {
    "id": "AEsgcBmRftH2"
   },
   "source": [
    "#  Python setup\n",
    "Heree, we import all the required Python packages. In order to use,\n",
    "any other module which wasnt ```pip``` installed, such as ```mob_data_utils```,\n",
    "you  can do the following:\n",
    "```sys.append(full_path_to_module)```"
   ]
  },
  {
   "cell_type": "markdown",
   "metadata": {
    "id": "TCfDddGHftH2"
   },
   "source": [
    "# Setup working directories\n",
    "Its also important to setup commonly used diretories such as where you will be saving data"
   ]
  },
  {
   "cell_type": "code",
   "execution_count": 4,
   "metadata": {
    "id": "JIqrkd3qftH2"
   },
   "outputs": [],
   "source": [
    "# Setup global parameters and variables\n",
    "MISC_PROCESSING_PARAMS = {'distance_threshold': 2, 'min_unique_locs': 2,'datetime_col': 'datetime',\n",
    "                        'userid': 'user_id','x': 'lon', 'y': 'lat'}"
   ]
  },
  {
   "cell_type": "markdown",
   "metadata": {},
   "source": [
    "## Task-1. Data preprocessing and clean up."
   ]
  },
  {
   "cell_type": "markdown",
   "metadata": {
    "id": "IqjvdTnyftH3"
   },
   "source": [
    "# Data preprocessing.\n",
    "Often, after all the data has been  acquired, thee next step is to do some preprocessing on the raw data.\n",
    "The objectives of this task will vary depending on the data analysis goals but some of them include following:\n",
    "- **Sanitize the data:** this data cleaning has to be done carefully to avoid introducing errors but its often a necessary step. It can involve dropping some unnecessary variables/columns. Renaming some columns to something which makes more sense. Dropping some observations. For instance, in this analysis where location and time-stamp is important, dropping all observations with no time-stamp and no location is required.\n",
    "- **Create new variables:**. If necessary, this is also the time transform some variables from a format which is not convinient for your analysis. For instance, converting string time variables to datetime aware variables.\n",
    "- **Combine datasets:** If you have more than one dataset, during preprocessing, you can also combine several datasets into one. For instance, we have the CDR transations which have no location details. We bring in the location details from another file.\n",
    "- **Filtering based on columns and observations:** This can be done through any of the stages mentioned above but its worth mentioning that often, you may drop some columns which arent useful for your analysis. Also, you may drop some observations based on some conditions depending on your analysis needs.\n",
    "\n",
    "Unlike in other data collection domains such as surveys where you can have standard data processing steps, in the data science space where your dataset can be anything, there are no hard and fast rule for preprocessing and data cleaning. It will be a case by case basis depending on your analysis goals. Also, preprocessing isnt necessarily a linear process: depending on what results you get downstream, you can go back and modify the preprocesisng steps. In this project, we have the ```preprocess_cdrs_using_spark``` which takes raw cdrs and saves to a CSV a processed dataset. Alternatively, we can return a Spark DataFrame."
   ]
  },
  {
   "cell_type": "code",
   "execution_count": 5,
   "metadata": {},
   "outputs": [],
   "source": [
    "def preprocess_cdrs_using_spark(file_or_folder=None, number_of_users_to_sample=None,\n",
    "                                output_csv=None, date_format='yyyyMMddHHmmss',\n",
    "                                debug_mode=True, loc_file=None, save_to_csv=False):\n",
    "    \"\"\"\n",
    "    Processes CDR data using Spark, handling data loading, transformation, and filtering.\n",
    "\n",
    "    Args:\n",
    "        file_or_folder (str, optional): Path to the input CDR files. Defaults to None.\n",
    "        number_of_users_to_sample (int, optional): Number of users to randomly sample. Defaults to None.\n",
    "        output_csv (str, optional): Path to save the processed DataFrame as a CSV file. Defaults to None.\n",
    "        date_format (str, optional): Format of the datetime column. Defaults to 'yyyyMMddHHmmss'.\n",
    "        debug_mode (bool, optional): If True, processes a smaller sample for testing. Defaults to True.\n",
    "        loc_file (str, optional): Path to the location details CSV file. Defaults to None.\n",
    "        save_to_csv (bool, optional): If True, saves the processed DataFrame to CSV. Defaults to False.\n",
    "\n",
    "    Returns:\n",
    "        pyspark.sql.dataframe.DataFrame: The processed DataFrame.\n",
    "    \"\"\"\n",
    "    # Initialize Spark Session with specified configurations\n",
    "    # Create a SparkSession with increased memory allocation\n",
    "    spark = SparkSession.builder \\\n",
    "        .appName(\"CDR_Preprocessing\") \\\n",
    "        .config(\"spark.driver.memory\", \"8g\") \\\n",
    "        .config(\"spark.executor.memory\", \"8g\") \\\n",
    "        .getOrCreate()\n",
    "    \n",
    "    # Load CDR data into a Spark DataFrame\n",
    "    cdr_data = spark.read.option(\"header\", \"true\").csv(file_or_folder)\n",
    "    \n",
    "    # Repartition the data for potential speed improvement\n",
    "    cdr_data = cdr_data.repartition(10)\n",
    "    \n",
    "    # If debugging, sample a fraction of the data\n",
    "    if debug_mode:\n",
    "        cdr_data = cdr_data.sample(fraction=0.1)\n",
    "    \n",
    "    # Rename columns for easier access\n",
    "    renamed_data = cdr_data.withColumnRenamed('cdr type', 'cdrType') \\\n",
    "                      .withColumnRenamed('cdr datetime', 'cdrDatetime') \\\n",
    "                      .withColumnRenamed('call duration', 'callDuration') \\\n",
    "                      .withColumnRenamed('last calling cellid', 'lastCallingCellId') \\\n",
    "                      .withColumnRenamed('user_id', 'userId')\n",
    "    \n",
    "    # Filter out rows where 'lastCallingCellId' is null\n",
    "    filtered_data = renamed_data.filter(renamed_data['lastCallingCellId'].isNotNull())\n",
    "    \n",
    "    # Extract date, hour, and day of week from 'cdrDatetime'\n",
    "    time_transformed_data = filtered_data.withColumn(\"call_date\", F.to_date(F.col(\"cdrDatetime\"), date_format)) \\\n",
    "                                 .withColumn(\"call_hour\", F.hour(F.col(\"cdrDatetime\"))) \\\n",
    "                                 .withColumn(\"call_dayofweek\", F.dayofweek(F.col(\"cdrDatetime\")))\n",
    "    \n",
    "    # Load location data using pandas, rename the cell_id column to cellId, and convert it to Spark DataFrame\n",
    "    location_data_pandas = pd.read_csv(loc_file)\n",
    "    location_data_pandas = location_data_pandas.rename(columns={\"cell_id\": \"cellId\"})\n",
    "    location_data_spark = spark.createDataFrame(location_data_pandas)\n",
    "    \n",
    "    # Join the CDR data with the location data\n",
    "    joined_data = time_transformed_data.join(location_data_spark, time_transformed_data[\"lastCallingCellId\"] == location_data_spark[\"cellId\"], how=\"inner\")\n",
    "    \n",
    "    # Extract all unique user IDs\n",
    "    all_users = joined_data.select(\"userId\").distinct().rdd.flatMap(lambda x: x).collect()\n",
    "    \n",
    "    # Randomly sample user IDs if specified\n",
    "    sampled_user_ids = random.choices(all_users, k=number_of_users_to_sample) if number_of_users_to_sample else all_users\n",
    "    \n",
    "    # Filter data to include only the sampled users\n",
    "    final_data = joined_data.filter(joined_data.userId.isin(sampled_user_ids))\n",
    "    \n",
    "    # Save the processed data to CSV if needed\n",
    "    if save_to_csv and output_csv:\n",
    "        final_data.write.option(\"header\", \"true\").csv(output_csv)\n",
    "    \n",
    "    # Return the final processed DataFrame\n",
    "    return final_data\n",
    "\n",
    "\n",
    "def combine_csv_files(input_folder, output_file):\n",
    "    \"\"\"\n",
    "    Combines all CSV files in the specified folder into a single CSV file.\n",
    "\n",
    "    Args:\n",
    "        input_folder (str): Path to the folder containing multiple CSV files.\n",
    "        output_file (str): Path to save the combined CSV file.\n",
    "    \"\"\"\n",
    "    # List all CSV files in the folder\n",
    "    csv_files = [os.path.join(input_folder, f) for f in os.listdir(input_folder) if f.endswith('.csv')]\n",
    "\n",
    "    # Read and combine all CSV files into a single DataFrame\n",
    "    combined_df = pd.concat((pd.read_csv(file) for file in csv_files), ignore_index=True)\n",
    "\n",
    "    # Save the combined DataFrame to a single CSV file\n",
    "    combined_df.to_csv(output_file, index=False)\n",
    "\n",
    "    print(f\"All CSV files in '{input_folder}' have been combined and saved to '{output_file}'.\")\n",
    "\n"
   ]
  },
  {
   "cell_type": "code",
   "execution_count": 28,
   "metadata": {},
   "outputs": [
    {
     "name": "stdout",
     "output_type": "stream",
     "text": [
      "Estimated time is 20min\n",
      "+------------+--------------+------------+-----------------+-------------------+----------+---------+--------------+-------+------+------------------+---------+\n",
      "|     cdrType|   cdrDatetime|callDuration|lastCallingCellId|             userId| call_date|call_hour|call_dayofweek|site_id|cellId|               lat|      lon|\n",
      "+------------+--------------+------------+-----------------+-------------------+----------+---------+--------------+-------+------+------------------+---------+\n",
      "|MoCallRecord|20180710201623|        NULL|          20353.0|3723332710206495940|2018-07-10|     NULL|          NULL|   S134| 20353|            -8.104|  27.9418|\n",
      "|MoCallRecord|20180710201410|        NULL|          12053.0|5272123796351142300|2018-07-10|     NULL|          NULL|    S86| 12053|          -8.56034|  26.8379|\n",
      "|MoCallRecord|20180710204452|        NULL|          40169.0|1073319092236361741|2018-07-10|     NULL|          NULL|    S90| 40169|         -7.874019|27.082443|\n",
      "|MoCallRecord|20180710084616|        NULL|          34106.0|5160952601219077034|2018-07-10|     NULL|          NULL|   S188| 34106|-8.511330000000001|  26.7685|\n",
      "| MoSMSRecord|20180710200406|        NULL|          22127.0|2996340896698414766|2018-07-10|     NULL|          NULL|    S15| 22127|         -9.050111|28.261209|\n",
      "+------------+--------------+------------+-----------------+-------------------+----------+---------+--------------+-------+------+------------------+---------+\n",
      "only showing top 5 rows\n",
      "\n",
      "All CSV files in '/home/emmmanuel/Documents/output.csv' have been combined and saved to '/home/emmmanuel/Documents/output.csv/combined_file.csv'.\n"
     ]
    }
   ],
   "source": [
    "# Define the base directory for data\n",
    "print('Estimated time is 20min')\n",
    "DATA_DIR = '/home/emmmanuel/Documents/'\n",
    "\n",
    "# Use os.path.join to create full paths for the CDRs and location data\n",
    "cdrs_dir = os.path.join(DATA_DIR, 'simulated_cdrs')\n",
    "loc_file = os.path.join(DATA_DIR, 'simulated_locs.csv')\n",
    "output_file = os.path.join(DATA_DIR, 'output.csv')\n",
    "\n",
    "# Define parameters\n",
    "num_users = None  # Remove or set to None to use the whole dataset\n",
    "datetime_fmt = 'yyyyMMddHHmmss'\n",
    "debug = True\n",
    "\n",
    "# Call the preprocess_cdrs_using_spark function\n",
    "dfu = preprocess_cdrs_using_spark(\n",
    "    file_or_folder=cdrs_dir, \n",
    "    number_of_users_to_sample=num_users,  # This will now process all users\n",
    "    output_csv=output_file, \n",
    "    date_format=datetime_fmt,\n",
    "    debug_mode=debug,\n",
    "    loc_file=loc_file,\n",
    "    save_to_csv=True\n",
    ")\n",
    "\n",
    "# Cache the resulting DataFrame\n",
    "dfu.cache()\n",
    "\n",
    "# Show a few rows of the resulting DataFrame\n",
    "dfu.show(5)\n",
    "\n",
    "\n",
    "# Example usage\n",
    "input_folder = '/home/emmmanuel/Documents/output.csv'  # Replace with the path to your folder\n",
    "output_file = '/home/emmmanuel/Documents/output.csv/combined_file.csv'   # Replace with the desired output file path\n",
    "combine_csv_files(input_folder, output_file)\n"
   ]
  },
  {
   "cell_type": "markdown",
   "metadata": {
    "id": "4SJmEfBLftH4"
   },
   "source": [
    "# Explolatory Data Analysis (EDA)\n",
    "Whether the end result of your project is to produce a statistical report or\n",
    "to build a prediction model to be put in production, EDA is an essential stage in any data science project. EDA can be defined as\n",
    "the process of performing initial investigations on data so as to discover patterns,to spot anomalies,\n",
    "to test hypothesis and to check assumptions with the help of summary statistics and graphical representations.\n",
    "It is a good practice to understand the data first and try to gather as many insights from it.\n",
    "EDA is all about making sense of data before using the data for the intended use (e.g., build ML models, perfom statisitcal analysis).\n",
    "\n",
    "Again, there arent hard and fast rules on how to perfom EDA but some of the specific quesitons you would like to answer are as folloes:\n",
    "- For each variable in the data, whats its distribution? Is it skewed? Whats its data type? Is it an approapriate  data type fopr my analysis. Are there any outliers?\n",
    "- Whats the relationship between variables?\n",
    "\n",
    "In this project, we will use the ```explore_data``` and explore what functions Spark has for basic EDA."
   ]
  },
  {
   "cell_type": "markdown",
   "metadata": {
    "id": "vFGWcWhpftH4"
   },
   "source": [
    "### Generate more summary statistics\n",
    "Please complete the function below."
   ]
  },
  {
   "cell_type": "markdown",
   "metadata": {},
   "source": [
    "## Task-2. Perform data exploration"
   ]
  },
  {
   "cell_type": "code",
   "execution_count": 29,
   "metadata": {
    "id": "32tidX6G37Ap"
   },
   "outputs": [],
   "source": [
    "\n",
    "# Function to calculate summary statistics\n",
    "def summary_stats_for_user_events(spark_df, out_stats):\n",
    "    \"\"\"\n",
    "    Calculates and prints summary statistics for user event data.\n",
    "    \n",
    "    Args:\n",
    "        spark_df (pyspark.sql.dataframe.DataFrame): Spark DataFrame containing user event data.\n",
    "        out_stats (str): Path to save the summary statistics CSV file.\n",
    "\n",
    "    Returns:\n",
    "        tuple: Total days, mean calls, and median calls.\n",
    "    \"\"\"\n",
    "    total_days = spark_df.select(\"call_date\").distinct().count()\n",
    "    grouped_df = spark_df.groupBy(\"userId\").count()\n",
    "    pdf = grouped_df.toPandas()\n",
    "    pdf.rename(columns={\"count\": \"num_events\"}, inplace=True)\n",
    "    mean_calls = pdf[\"num_events\"].mean()\n",
    "    median_calls = pdf[\"num_events\"].median()\n",
    "    describe_stats = pdf[\"num_events\"].describe().T\n",
    "    pdf_sum_stats = pd.DataFrame(describe_stats).reset_index()\n",
    "    pdf_sum_stats = pdf_sum_stats.iloc[1:, :]\n",
    "    pdf_sum_stats.rename(columns={\"index\": \"Stat\"}, inplace=True)\n",
    "    percentiles_mapping = {\"25%\": \"25th Percentile\", \"50%\": \"Median\", \"75%\": \"75th Percentile\"}\n",
    "    pdf_sum_stats[\"Stat\"] = pdf_sum_stats[\"Stat\"].map(\n",
    "        lambda x: percentiles_mapping[x] if x in percentiles_mapping else x\n",
    "    )\n",
    "    additional_stats = pd.DataFrame({\n",
    "        \"Stat\": [\"Total Days\", \"Mean Number of Calls\", \"Median Number of Calls\"],\n",
    "        \"num_events\": [total_days, mean_calls, median_calls]\n",
    "    })\n",
    "    pdf_sum_stats = pd.concat([additional_stats, pdf_sum_stats], ignore_index=True)\n",
    "    print(\"=\" * 40)\n",
    "    print(\"Summary statistics table:\")\n",
    "    print(\"=\" * 40)\n",
    "    print(pdf_sum_stats)\n",
    "    out_stats = os.path.join(os.getcwd(), out_stats)\n",
    "    pdf_sum_stats.to_csv(out_stats, index=False)\n",
    "    print(f\"Summary statistics saved to {out_stats}\")\n",
    "    return total_days, mean_calls, median_calls"
   ]
  },
  {
   "cell_type": "code",
   "execution_count": 30,
   "metadata": {},
   "outputs": [
    {
     "name": "stdout",
     "output_type": "stream",
     "text": [
      "All CSV files in '/home/emmmanuel/Documents/output.csv' have been combined and saved to '/home/emmmanuel/Documents/output.csv/combined_file.csv'.\n",
      "========================================\n",
      "Summary statistics table:\n",
      "========================================\n",
      "                     Stat   num_events\n",
      "0              Total Days    15.000000\n",
      "1    Mean Number of Calls     8.927497\n",
      "2  Median Number of Calls     6.000000\n",
      "3                    mean     8.927497\n",
      "4                     std    12.832983\n",
      "5                     min     2.000000\n",
      "6         25th Percentile     2.000000\n",
      "7                  Median     6.000000\n",
      "8         75th Percentile    12.000000\n",
      "9                     max  4390.000000\n",
      "Summary statistics saved to /home/emmmanuel/BDA/Ass_2/summary_stats.csv\n",
      "\n",
      "Summary Statistics:\n",
      "Total Days: 15\n",
      "Mean Calls per User: 8.92749703285713\n",
      "Median Calls per User: 6.0\n"
     ]
    }
   ],
   "source": [
    "# Main Script\n",
    "if __name__ == \"__main__\":\n",
    "    input_folder = \"/home/emmmanuel/Documents/output.csv\"  # Replace with the folder path\n",
    "    combined_file = \"/home/emmmanuel/Documents/output.csv/combined_file.csv\"  # Replace with the file path\n",
    "    stats_output_file = \"summary_stats.csv\"  # Replace with desired stats output file name\n",
    "\n",
    "    # Combine CSV files\n",
    "    combine_csv_files(input_folder, combined_file)\n",
    "\n",
    "    ## Create a SparkSession with increased memory allocation\n",
    "    spark = SparkSession.builder \\\n",
    "        .appName(\"CDR_Preprocessing\") \\\n",
    "        .config(\"spark.driver.memory\", \"8g\") \\\n",
    "        .config(\"spark.executor.memory\", \"8g\") \\\n",
    "        .getOrCreate()\n",
    "    \n",
    "    # Load the combined file into a Spark DataFrame\n",
    "    spark_df = spark.read.option(\"header\", \"true\").csv(combined_file)\n",
    "\n",
    "    # Perform summary statistics\n",
    "    total_days, mean_calls, median_calls = summary_stats_for_user_events(spark_df, stats_output_file)\n",
    "\n",
    "    # Print summary statistics\n",
    "    print(\"\\nSummary Statistics:\")\n",
    "    print(f\"Total Days: {total_days}\")\n",
    "    print(f\"Mean Calls per User: {mean_calls}\")\n",
    "    print(f\"Median Calls per User: {median_calls}\")\n"
   ]
  },
  {
   "cell_type": "markdown",
   "metadata": {
    "id": "ogaGrrUMftH5"
   },
   "source": [
    "# Generate individual based mobility patterns and attributes\n",
    "As we noted in the project  instructions, the focus of this analysis is to understand mobility patterns\n",
    "on individual users. Although, generating trips  and understanding their distribution is crucial for this project, due to time constraints, we will start with simple mobility metrics. Namely:\n",
    "- **Radius of gyration(Rg):**  For a single day, Rg can be defined in simple terms as the maximum distance a user travels. We can then compute ```avg_Rg``` based on all Rg from the user's data. This metric ```avg_Rg``` is what we will compute.\n",
    "- **Number of unique locations visited everyday:** As the name suggests, this is simply, the count of unique locations an individual visits everyday. Given multiple days data, we will compute the ```avg_locs_per_day```\n",
    "\n",
    "In addition to the mobility metric above, we will report the ```number of days``` a user was activive which will help us understand how much we should trust user data.\n",
    "\n",
    "For this task, we will utilize functions in the ```mob_data_utils``` module which were already created to generate  the required metrics above. You can import ```mob_data_utils``` like this to use my code:\n",
    "```import mob_data_utils as ut```"
   ]
  },
  {
   "cell_type": "markdown",
   "metadata": {
    "id": "JmXJlYuzftH5"
   },
   "source": [
    "## Define functions to generate user attributes"
   ]
  },
  {
   "cell_type": "markdown",
   "metadata": {},
   "source": [
    "## Task-3. User mobility patterns."
   ]
  },
  {
   "cell_type": "code",
   "execution_count": 31,
   "metadata": {},
   "outputs": [],
   "source": [
    "from pyspark.sql import SparkSession\n",
    "from pyspark.sql.functions import col, countDistinct, mean, collect_list, udf\n",
    "from pyspark.sql.types import IntegerType\n",
    "\n",
    "# Define a UDF to calculate the number of unique locations per day\n",
    "@udf(returnType=IntegerType())\n",
    "def count_unique_locs(lat_list, lon_list):\n",
    "    \"\"\"\n",
    "    UDF to calculate the number of unique latitude-longitude pairs.\n",
    "    \"\"\"\n",
    "    unique_pairs = set(zip(lat_list, lon_list))\n",
    "    return len(unique_pairs)\n",
    "\n",
    "def get_user_mobility_attributes(spark_df, userid_column='userId', date_column='call_date', lat_column='lat', lon_column='lon'):\n",
    "    \"\"\"\n",
    "    Generates individual user mobility attributes, such as the number of locations visited per day.\n",
    "\n",
    "    Args:\n",
    "        spark_df (pyspark.sql.DataFrame): Spark DataFrame with multiple users' mobility data.\n",
    "        userid_column (str): Name of the column that identifies the user.\n",
    "        date_column (str): Name of the column representing the date of each entry.\n",
    "        lat_column (str): Name of the column representing latitude.\n",
    "        lon_column (str): Name of the column representing longitude.\n",
    "\n",
    "    Returns:\n",
    "        pyspark.sql.DataFrame: DataFrame with user mobility attributes.\n",
    "    \"\"\"\n",
    "    # Group by user and date, and aggregate unique lat/lon pairs\n",
    "    daily_data = spark_df.groupBy(userid_column, date_column) \\\n",
    "        .agg(collect_list(lat_column).alias('lat_list'), collect_list(lon_column).alias('lon_list'))\n",
    "\n",
    "    # Calculate the number of unique locations per day using the UDF\n",
    "    daily_data = daily_data.withColumn('unique_locs', count_unique_locs(col('lat_list'), col('lon_list')))\n",
    "\n",
    "    # Group by user and calculate mobility attributes\n",
    "    user_mobility_df = daily_data.groupBy(userid_column) \\\n",
    "        .agg(\n",
    "            countDistinct(date_column).alias('usage_days'),  # Number of unique days\n",
    "            mean('unique_locs').alias('mean_locs_day')      # Average unique locations per day\n",
    "        ) \\\n",
    "        .withColumnRenamed(userid_column, 'user_id')  # Rename the user ID column\n",
    "\n",
    "    return user_mobility_df"
   ]
  },
  {
   "cell_type": "code",
   "execution_count": 32,
   "metadata": {},
   "outputs": [
    {
     "name": "stdout",
     "output_type": "stream",
     "text": [
      "+-------------------+----------+------------------+\n",
      "|            user_id|usage_days|     mean_locs_day|\n",
      "+-------------------+----------+------------------+\n",
      "| 108451502388018488|         2|               1.0|\n",
      "| 279821708997836843|         4|               1.0|\n",
      "| 316195861001076190|         3|               1.0|\n",
      "| 539978689220904604|         1|               1.0|\n",
      "| 767044349366950196|         1|               1.0|\n",
      "|1006436050914180735|        15|               1.0|\n",
      "|1389941144150380238|         3|               1.0|\n",
      "|1575699437978614497|         3|               1.0|\n",
      "|1609133505203145824|         7|               1.0|\n",
      "|1908433843881482722|         4|               1.0|\n",
      "|1947866754542324456|         9|1.1111111111111112|\n",
      "|2013570802531965402|         1|               1.0|\n",
      "|2175849797874607933|         1|               1.0|\n",
      "|2386970787726706909|         5|               1.0|\n",
      "|2388272707994456322|        10|               1.5|\n",
      "|2402465147112928607|        10|               1.5|\n",
      "|2416889617439297928|         8|               1.0|\n",
      "|2809790490356069550|         5|               1.0|\n",
      "|2821084055711590765|         4|               1.0|\n",
      "|3042987657170206840|         3|               1.0|\n",
      "+-------------------+----------+------------------+\n",
      "only showing top 20 rows\n",
      "\n"
     ]
    }
   ],
   "source": [
    "from pyspark.sql import SparkSession\n",
    "from pyspark.sql.functions import col, lit\n",
    "\n",
    "# 1. Initialize Spark session\n",
    "spark = SparkSession.builder \\\n",
    "    .appName(\"Read and Process CSV with Spark\") \\\n",
    "    .config(\"spark.driver.memory\", \"8g\") \\\n",
    "    .config(\"spark.executor.memory\", \"8g\") \\\n",
    "    .getOrCreate()\n",
    "\n",
    "# Load your CSV file into a Spark DataFrame\n",
    "input_filename = '/home/emmmanuel/Documents/output.csv/combined_file.csv'  # Replace with the correct path\n",
    "df = spark.read.csv(input_filename, header=True, inferSchema=True)\n",
    "\n",
    "# Generate user mobility attributes using Spark DataFrame\n",
    "user_mobility_df = get_user_mobility_attributes(df)\n",
    "\n",
    "# Show the resulting DataFrame\n",
    "user_mobility_df.show()\n",
    "\n",
    "# Save the user mobility data to a CSV file\n",
    "output_filename = '/home/emmmanuel/Documents/output_user_mobility_data.csv'  # Replace with desired output path\n",
    "user_mobility_df.write.csv(output_filename, header=True)\n",
    "\n",
    "# Stop the Spark session\n",
    "spark.stop()"
   ]
  },
  {
   "cell_type": "code",
   "execution_count": 33,
   "metadata": {},
   "outputs": [],
   "source": [
    "from pyspark.sql import SparkSession\n",
    "from pyspark.sql.functions import col, mean, sqrt, countDistinct, collect_list, udf\n",
    "from pyspark.sql.types import FloatType\n",
    "import numpy as np\n",
    "import matplotlib.pyplot as plt\n",
    "def calculate_radius_of_gyration(lats, lons):\n",
    "    \"\"\"\n",
    "    Calculates the radius of gyration (Rg) for a user based on their locations.\n",
    "    \n",
    "    Args:\n",
    "        lats (list): List of latitudes.\n",
    "        lons (list): List of longitudes.\n",
    "\n",
    "    Returns:\n",
    "        float: Radius of gyration (Rg).\n",
    "    \"\"\"\n",
    "    if not lats or not lons:\n",
    "        return 0.0\n",
    "    \n",
    "    # Calculate the centroid (mean latitude and longitude)\n",
    "    mean_lat = np.mean(lats)\n",
    "    mean_lon = np.mean(lons)\n",
    "    \n",
    "    # Calculate the squared distances from the centroid\n",
    "    distances_squared = [(lat - mean_lat)**2 + (lon - mean_lon)**2 for lat, lon in zip(lats, lons)]\n",
    "    \n",
    "    # Calculate the radius of gyration\n",
    "    Rg = np.sqrt(np.mean(distances_squared))\n",
    "    return float(Rg)\n",
    "\n",
    "# Register the UDF\n",
    "calculate_radius_of_gyration_udf = udf(calculate_radius_of_gyration, FloatType())"
   ]
  },
  {
   "cell_type": "code",
   "execution_count": 34,
   "metadata": {},
   "outputs": [],
   "source": [
    "def get_user_mobility_attributes_with_Rg(df, userid_column='userId', date_column='call_date', lat_column='lat', lon_column='lon'):\n",
    "    \"\"\"\n",
    "    Generates user mobility attributes, including the mean radius of gyration and number of unique locations per day.\n",
    "\n",
    "    Args:\n",
    "        df (pyspark.sql.DataFrame): DataFrame with multiple users' mobility data.\n",
    "        userid_column (str): Name of the column that identifies the user.\n",
    "        date_column (str): Name of the column representing the date of each entry.\n",
    "        lat_column (str): Name of the column representing latitude.\n",
    "        lon_column (str): Name of the column representing longitude.\n",
    "    \n",
    "    Returns:\n",
    "        pyspark.sql.DataFrame: DataFrame with user mobility attributes including avg_Rg and avg_locs_per_day.\n",
    "    \"\"\"\n",
    "    # Group by user and date, then aggregate unique lat/lon pairs\n",
    "    daily_data = df.groupBy(userid_column, date_column).agg(\n",
    "        countDistinct(lat_column, lon_column).alias('unique_locs')\n",
    "    )\n",
    "    \n",
    "    # Calculate the number of unique days the user was active and mean locations per day\n",
    "    user_data = daily_data.groupBy(userid_column).agg(\n",
    "        countDistinct(date_column).alias('usage_days'),\n",
    "        mean(col('unique_locs')).alias('mean_locs_day')\n",
    "    )\n",
    "    \n",
    "    # Collect all lat/lon pairs for each user to calculate Rg\n",
    "    user_locations = df.groupBy(userid_column).agg(\n",
    "        collect_list(lat_column).alias('lats'),\n",
    "        collect_list(lon_column).alias('lons')\n",
    "    )\n",
    "    \n",
    "    # Calculate the radius of gyration (Rg) for each user\n",
    "    user_data = user_data.join(user_locations, userid_column) \\\n",
    "        .withColumn('avg_Rg', calculate_radius_of_gyration_udf(col('lats'), col('lons'))) \\\n",
    "        .drop('lats', 'lons')\n",
    "    \n",
    "    return user_data"
   ]
  },
  {
   "cell_type": "code",
   "execution_count": 35,
   "metadata": {},
   "outputs": [
    {
     "name": "stdout",
     "output_type": "stream",
     "text": [
      "+----------------+----------+-------------+-------------+\n",
      "|          userId|usage_days|mean_locs_day|       avg_Rg|\n",
      "+----------------+----------+-------------+-------------+\n",
      "| 390636703712708|         4|          1.0|3.9720547E-15|\n",
      "| 780289104606327|         1|          1.0|          0.0|\n",
      "| 814985724731691|         4|          1.0|          0.0|\n",
      "| 987415502616974|         1|          1.0|          0.0|\n",
      "|1241159704840540|         2|          1.0|          0.0|\n",
      "|1968552087775869|         1|          1.0|          0.0|\n",
      "|2070769859515377|         5|          1.0|          0.0|\n",
      "|2422332775213587|         1|          1.0|          0.0|\n",
      "|2657624188024718|         1|          1.0|          0.0|\n",
      "|2683956821333828|         1|          1.0|          0.0|\n",
      "|3183165061830712|         1|          1.0|          0.0|\n",
      "|3206226095168242|         2|          1.0|          0.0|\n",
      "|3694119292185949|         2|          1.0|    0.3335826|\n",
      "|4016648649615078|         3|          1.0|3.5527137E-15|\n",
      "|4221860203665557|        11|          1.0|3.5527137E-15|\n",
      "|4415273459195474|         1|          1.0|          0.0|\n",
      "|4440151195714279|         1|          1.0|          0.0|\n",
      "|4526394844580758|         1|          1.0|          0.0|\n",
      "|5063818363095075|         3|          1.0|          0.0|\n",
      "|5161490130429473|         3|          1.0|3.5527137E-15|\n",
      "+----------------+----------+-------------+-------------+\n",
      "only showing top 20 rows\n",
      "\n"
     ]
    }
   ],
   "source": [
    "from pyspark.sql import SparkSession\n",
    "from pyspark.sql.functions import col, mean, sqrt, countDistinct, collect_list, udf\n",
    "from pyspark.sql.types import FloatType\n",
    "import numpy as np\n",
    "import matplotlib.pyplot as plt\n",
    "\n",
    "# 1. Initialize Spark session\n",
    "spark = SparkSession.builder \\\n",
    "    .appName(\"Read and Process CSV with Spark\") \\\n",
    "    .config(\"spark.driver.memory\", \"8g\") \\\n",
    "    .config(\"spark.executor.memory\", \"8g\") \\\n",
    "    .getOrCreate()\n",
    "\n",
    "# Load your CSV file into a Spark DataFrame\n",
    "input_filename = '/home/emmmanuel/Documents/output.csv/combined_file.csv'  # Replace with the correct path\n",
    "df = spark.read.csv(input_filename, header=True, inferSchema=True)\n",
    "\n",
    "# Generate user mobility attributes including avg_Rg\n",
    "user_mobility_rg_df = get_user_mobility_attributes_with_Rg(df)\n",
    "\n",
    "# Print the resulting DataFrame to check the user mobility data\n",
    "user_mobility_rg_df.show()\n",
    "\n",
    "# Save the user mobility data to a CSV file\n",
    "output_filename = '/home/emmmanuel/Documents/output_user_mobility_data_with_Rg.csv'  # Replace with desired output path\n",
    "user_mobility_rg_df.write.csv(output_filename, header=True, mode='overwrite')"
   ]
  },
  {
   "cell_type": "code",
   "execution_count": 36,
   "metadata": {},
   "outputs": [],
   "source": [
    "def plot_correlation(user_mobility_df, output_plot_path):\n",
    "    \"\"\"\n",
    "    Plots the correlation between avg_Rg and avg_locs_per_day, prints the correlation coefficient,\n",
    "    and saves the plot to the specified directory.\n",
    "\n",
    "    Args:\n",
    "        user_mobility_df (pyspark.sql.DataFrame): DataFrame containing the user mobility attributes.\n",
    "        output_plot_path (str): Path to save the correlation plot (e.g., '/path/to/save/plot.png').\n",
    "    \"\"\"\n",
    "    # Convert Spark DataFrame to Pandas DataFrame for plotting\n",
    "    user_mobility_pd_df = user_mobility_df.toPandas()\n",
    "    \n",
    "    # Calculate the Pearson correlation coefficient\n",
    "    correlation = user_mobility_pd_df['avg_Rg'].corr(user_mobility_pd_df['mean_locs_day'])\n",
    "    \n",
    "    # Plotting the scatter plot\n",
    "    plt.figure(figsize=(8, 6))\n",
    "    plt.scatter(user_mobility_pd_df['avg_Rg'], user_mobility_pd_df['mean_locs_day'], alpha=0.5)\n",
    "    plt.title(f'Correlation between avg_Rg and avg_locs_per_day\\nCorrelation coefficient: {correlation:.2f}')\n",
    "    plt.xlabel('Mean Radius of Gyration (avg_Rg)')\n",
    "    plt.ylabel('Mean Locations per Day (avg_locs_per_day)')\n",
    "    plt.grid(True)\n",
    "    \n",
    "    # Save the plot to the specified directory\n",
    "    plt.savefig(output_plot_path, bbox_inches='tight')\n",
    "    plt.show()\n",
    "\n",
    "    # Print the correlation coefficient\n",
    "    print(f\"Correlation coefficient between avg_Rg and avg_locs_per_day: {correlation:.2f}\")\n",
    "    print(f\"Correlation plot saved to: {output_plot_path}\")"
   ]
  },
  {
   "cell_type": "code",
   "execution_count": 37,
   "metadata": {},
   "outputs": [
    {
     "data": {
      "image/png": "[encoded data removed]",
      "text/plain": [
       "<Figure size 576x432 with 1 Axes>"
      ]
     },
     "metadata": {
      "needs_background": "light"
     },
     "output_type": "display_data"
    },
    {
     "name": "stdout",
     "output_type": "stream",
     "text": [
      "Correlation coefficient between avg_Rg and avg_locs_per_day: 0.11\n",
      "Correlation plot saved to: /home/emmmanuel/Documents/correlation_plot.png\n"
     ]
    }
   ],
   "source": [
    "# Define the path to save the correlation plot\n",
    "output_plot_path = '/home/emmmanuel/Documents/correlation_plot.png'  # Replace with your desired output path\n",
    "\n",
    "# Plot the correlation between avg_Rg and avg_locs_per_day and save the plot\n",
    "plot_correlation(user_mobility_rg_df, output_plot_path)"
   ]
  },
  {
   "cell_type": "code",
   "execution_count": 38,
   "metadata": {},
   "outputs": [],
   "source": [
    "spark.stop()"
   ]
  },
  {
   "cell_type": "markdown",
   "metadata": {},
   "source": [
    "## Task-4. What large dataset challenges did you face and how did you solve them."
   ]
  },
  {
   "cell_type": "markdown",
   "metadata": {},
   "source": [
    " - Working with the large dataset (simulated_cdrs) presented several challenges, particularly in terms of memory limitations, processing time, and data quality. One of the main issues I faced was system memory constraints. When attempting to process the entire dataset in Spark, I encountered frequent memory-related errors, such as OutOfMemoryError. To address this, I configured Spark to allocate smaller amounts of memory to the driver and executor using settings like spark.executor.memory and spark.driver.memory. Additionally, I enabled disk-based storage for intermediate data to manage memory usage during shuffles and joins. This allowed the process to run smoothly without crashing.\n",
    "\n",
    " - Another challenge was the long processing time, especially during debugging and testing. Iterating through the entire dataset repeatedly was inefficient, so I implemented data sampling during the preprocessing step. I sampled a subset of users (e.g., 100 users) for testing and debugging, which allowed me to quickly verify the code before scaling up to the full dataset. This approach significantly reduced the time spent on debugging and ensured that the workflow was correct.\n",
    "\n",
    " - I also encountered issues with Spark’s schema inference, as it failed to correctly interpret the data types in the raw CSV files. To resolve this, I explicitly defined the schema for the raw data, ensuring that columns like cdrDatetime were correctly parsed as timestamps. Additionally, I enabled Spark’s legacy time parser policy to handle the datetime format in the dataset, which prevented errors during preprocessing.\n",
    "\n",
    " - Data quality was another concern, as the dataset contained missing or invalid values, such as null cdrDatetime or cellId entries. I addressed this by dropping rows with missing critical columns and filling in missing values with defaults where appropriate. Finally, to manage large output files, I saved the preprocessed data and user attributes in a compressed format like Parquet, which reduced file size and improved write performance.\n",
    "\n",
    "Overall, were critical to overcoming the challenges of working with a large dataset on my local machine. They allowed me to efficiently process the data and generate accurate results while staying within system limitations"
   ]
  }
 ],
 "metadata": {
  "colab": {
   "provenance": []
  },
  "kernelspec": {
   "display_name": "Python 3",
   "language": "python",
   "name": "python3"
  },
  "language_info": {
   "codemirror_mode": {
    "name": "ipython",
    "version": 3
   },
   "file_extension": ".py",
   "mimetype": "text/x-python",
   "name": "python",
   "nbconvert_exporter": "python",
   "pygments_lexer": "ipython3",
   "version": "3.9.2"
  },
  "toc": {
   "base_numbering": 1,
   "nav_menu": {},
   "number_sections": true,
   "sideBar": true,
   "skip_h1_title": false,
   "title_cell": "Table of Contents",
   "title_sidebar": "Contents",
   "toc_cell": false,
   "toc_position": {},
   "toc_section_display": true,
   "toc_window_display": false
  }
 },
 "nbformat": 4,
 "nbformat_minor": 4
}
